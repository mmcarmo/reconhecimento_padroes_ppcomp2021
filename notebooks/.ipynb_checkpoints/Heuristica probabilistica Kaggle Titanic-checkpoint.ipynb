{
 "cells": [
  {
   "cell_type": "code",
   "execution_count": 214,
   "id": "6b07b12f",
   "metadata": {},
   "outputs": [],
   "source": [
    "import numpy as np\n",
    "import pandas as pd\n",
    "import sklearn\n",
    "import matplotlib\n",
    "import matplotlib.pyplot as plt\n",
    "import seaborn as sns\n",
    "from IPython.display import display\n",
    "import umap\n",
    "from collections import Counter\n",
    "import re\n",
    "from tqdm import tqdm"
   ]
  },
  {
   "cell_type": "code",
   "execution_count": 146,
   "id": "8a29197d",
   "metadata": {},
   "outputs": [
    {
     "data": {
      "text/plain": [
       "Index(['PassengerId', 'Pclass', 'Name', 'Sex', 'Age', 'SibSp', 'Parch',\n",
       "       'Ticket', 'Fare', 'Cabin', 'Embarked'],\n",
       "      dtype='object')"
      ]
     },
     "execution_count": 146,
     "metadata": {},
     "output_type": "execute_result"
    }
   ],
   "source": [
    "from numpy import dtype\n",
    "\n",
    "# Dataset capturado do desafio https://www.kaggle.com/c/titanic/data\n",
    "df = pd.read_csv('../data/titanic/train.csv')\n",
    "df_test = pd.read_csv('../data/titanic/test.csv')\n",
    "\n",
    "y = df.Survived.copy()\n",
    "X = df.drop('Survived',axis=1).copy()\n",
    "X_test = df_test.copy()\n",
    "X.columns"
   ]
  },
  {
   "cell_type": "code",
   "execution_count": 209,
   "id": "9ed00907",
   "metadata": {
    "scrolled": false
   },
   "outputs": [
    {
     "name": "stdout",
     "output_type": "stream",
     "text": [
      "\n",
      "Executando Heuristica Probabilistica\n",
      "\n",
      "[0 0 0 0 1 0 0 0 0 0 0 0 1 0 1 1 0 0 0 0 0 0 1 0 1 0 1 0 0 0 0 0 1 0 1 0 0\n",
      " 0 0 0 0 0 0 1 1 0 0 0 1 1 0 0 1 1 0 0 0 0 0 1 0 0 0 0 0 1 0 0 0 1 0 0 0 0\n",
      " 1 0 0 1 0 0 1 0 0 0 0 0 0 0 0 0 0 0 1 0 0 0 1 0 0 0 1 0 0 0 0 0 0 0 0 0 0\n",
      " 0 1 0 1 0 0 1 0 1 1 0 1 0 0 0 0 0 0 0 0 0 0 0 0 0 0 0 0 0 0 1 0 0 0 0 0 0\n",
      " 0 0 1 0 0 1 0 0 1 0 0 0 0 0 1 0 0 1 0 0 1 0 0 0 0 0 0 1 1 0 1 1 0 0 1 0 1\n",
      " 0 1 0 0 0 0 0 0 0 0 0 1 0 0 0 0 1 0 1 0 0 1 0 1 0 0 0 0 1 0 0 0 0 1 0 1 0\n",
      " 1 0 1 0 0 0 0 0 0 1 0 0 0 0 0 0 1 1 1 1 0 0 0 0 1 0 1 0 1 0 0 0 0 0 0 0 1\n",
      " 0 0 0 1 1 0 0 0 0 0 0 0 0 1 0 0 1 0 0 0 0 0 1 0 0 0 0 0 0 0 0 0 0 0 1 0 0\n",
      " 1 0 0 0 0 0 0 0 0 1 1 1 0 0 0 0 0 0 1 0 0 0 0 0 0 0 0 0 1 0 1 0 0 0 1 0 0\n",
      " 1 0 0 0 0 0 0 0 0 0 1 0 0 0 0 0 1 1 0 0 0 1 0 1 0 0 0 0 1 1 0 1 0 0 0 1 0\n",
      " 0 1 0 0 1 1 0 0 0 0 0 0 0 1 0 1 0 0 0 1 0 1 0 0 0 1 0 1 0 0 1 0 1 0 0 0 0\n",
      " 0 0 0 0 1 0 0 1 0 0 0]\n",
      "Percentual de sobreviventes:  0.7607655502392344\n",
      "Score no Kaggle: 0.7945\n"
     ]
    }
   ],
   "source": [
    "def heuristic_prediction(X,y,X_test,div_fare=1,div_age=1,tresh = 0.9):\n",
    "    predictions = [] ; print('\\nExecutando Heuristica Probabilistica\\n')\n",
    "    Xs = X.join(y).copy()\n",
    "    Xt = X_test.copy()\n",
    "    \n",
    "    Xs['Fare'] = Xs['Fare']//div_fare\n",
    "    Xs['Age'] = Xs['Age']//div_age\n",
    "    Xt['Fare'] = Xt['Fare']//div_fare\n",
    "    Xt['Age'] = Xt['Age']//div_age\n",
    "    \n",
    "    for idx, row in Xt.iterrows():\n",
    "        p1 = Xs['Survived'][Xs['Sex'] == row['Sex']][Xs['Pclass'] == row['Pclass']]\n",
    "        p2 = Xs['Survived'][Xs['Sex'] == row['Sex']][Xs['Fare'] == row['Fare']]\n",
    "        p3 = Xs['Survived'][Xs['Sex'] == row['Sex']][Xs['Age'] == row['Age']]\n",
    "        \n",
    "        if   len(p1) and sum(p1)/len(p1) > tresh: predictions.append(1) #; print('p1 :', sum(p1)/len(p1))\n",
    "        elif len(p2) and sum(p2)/len(p2) > tresh: predictions.append(1) #; print('p2 :', sum(p2)/len(p2))\n",
    "        elif len(p3) and sum(p3)/len(p3) > tresh: predictions.append(1) #; print('p3 :', sum(p3)/len(p3))\n",
    "        else: predictions.append(0)\n",
    "    \n",
    "    return np.array(predictions)\n",
    "\n",
    "y_pred_test1 = heuristic_prediction(X,y,X_test,tresh=0.9) ; print(y_pred_test1)\n",
    "print('Percentual de sobreviventes: ',1 - np.sum( y_pred_test1 )/ len( y_pred_test1 ))\n",
    "\n",
    "y_pred = y_pred_test1\n",
    "result = X_test[['PassengerId']].copy()\n",
    "result.loc[:,'Survived'] = y_pred\n",
    "result.to_csv('submission_heuristic_pred.csv',index=False)\n",
    "print('Score no Kaggle: 0.7945')"
   ]
  },
  {
   "cell_type": "code",
   "execution_count": null,
   "id": "363bd9b2",
   "metadata": {},
   "outputs": [],
   "source": []
  }
 ],
 "metadata": {
  "kernelspec": {
   "display_name": "Python [conda env:ppcomp] *",
   "language": "python",
   "name": "conda-env-ppcomp-py"
  },
  "language_info": {
   "codemirror_mode": {
    "name": "ipython",
    "version": 3
   },
   "file_extension": ".py",
   "mimetype": "text/x-python",
   "name": "python",
   "nbconvert_exporter": "python",
   "pygments_lexer": "ipython3",
   "version": "3.8.12"
  }
 },
 "nbformat": 4,
 "nbformat_minor": 5
}
