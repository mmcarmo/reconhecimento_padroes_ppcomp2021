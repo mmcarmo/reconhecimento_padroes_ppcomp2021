{
 "cells": [
  {
   "cell_type": "code",
   "execution_count": 38,
   "metadata": {},
   "outputs": [
    {
     "data": {
      "text/plain": [
       "('1.19.1', '1.2.4', '0.24.2', '3.2.2')"
      ]
     },
     "execution_count": 38,
     "metadata": {},
     "output_type": "execute_result"
    }
   ],
   "source": [
    "import numpy as np\n",
    "import pandas as pd\n",
    "import sklearn\n",
    "import matplotlib\n",
    "import matplotlib.pyplot as plt\n",
    "from IPython.display import display\n",
    "\n",
    "from sklearn.preprocessing import StandardScaler\n",
    "from sklearn.linear_model import LogisticRegression \n",
    "from sklearn.metrics import mean_squared_error\n",
    "\n",
    "from sklearn.metrics import confusion_matrix,ConfusionMatrixDisplay\n",
    "\n",
    "np.__version__,pd.__version__,sklearn.__version__,matplotlib.__version__"
   ]
  },
  {
   "cell_type": "code",
   "execution_count": 18,
   "metadata": {},
   "outputs": [],
   "source": [
    "# Dataset capturado do desafio https://www.kaggle.com/volodymyrgavrysh/fraud-detection-bank-dataset-20k-records-binary\n",
    "df = pd.read_csv('../data/fraud_detection_bank_dataset.csv',index_col=0)\n",
    "\n",
    "# Binarização simples dos dados categóricos\n",
    "# df = df.join(pd.get_dummies(df.select_dtypes('object'))).drop(df.select_dtypes('object').columns,axis=1)\n"
   ]
  },
  {
   "cell_type": "code",
   "execution_count": 19,
   "metadata": {},
   "outputs": [
    {
     "data": {
      "text/html": [
       "<div>\n",
       "<style scoped>\n",
       "    .dataframe tbody tr th:only-of-type {\n",
       "        vertical-align: middle;\n",
       "    }\n",
       "\n",
       "    .dataframe tbody tr th {\n",
       "        vertical-align: top;\n",
       "    }\n",
       "\n",
       "    .dataframe thead th {\n",
       "        text-align: right;\n",
       "    }\n",
       "</style>\n",
       "<table border=\"1\" class=\"dataframe\">\n",
       "  <thead>\n",
       "    <tr style=\"text-align: right;\">\n",
       "      <th></th>\n",
       "      <th>col_0</th>\n",
       "      <th>col_1</th>\n",
       "      <th>col_2</th>\n",
       "      <th>col_3</th>\n",
       "      <th>col_4</th>\n",
       "      <th>col_5</th>\n",
       "      <th>col_6</th>\n",
       "      <th>col_7</th>\n",
       "      <th>col_8</th>\n",
       "      <th>col_9</th>\n",
       "      <th>...</th>\n",
       "      <th>col_103</th>\n",
       "      <th>col_104</th>\n",
       "      <th>col_105</th>\n",
       "      <th>col_106</th>\n",
       "      <th>col_107</th>\n",
       "      <th>col_108</th>\n",
       "      <th>col_109</th>\n",
       "      <th>col_110</th>\n",
       "      <th>col_111</th>\n",
       "      <th>targets</th>\n",
       "    </tr>\n",
       "  </thead>\n",
       "  <tbody>\n",
       "    <tr>\n",
       "      <th>0</th>\n",
       "      <td>9</td>\n",
       "      <td>1354</td>\n",
       "      <td>0</td>\n",
       "      <td>18</td>\n",
       "      <td>0</td>\n",
       "      <td>1</td>\n",
       "      <td>7</td>\n",
       "      <td>9</td>\n",
       "      <td>0</td>\n",
       "      <td>0</td>\n",
       "      <td>...</td>\n",
       "      <td>0</td>\n",
       "      <td>0</td>\n",
       "      <td>0</td>\n",
       "      <td>1</td>\n",
       "      <td>1</td>\n",
       "      <td>0</td>\n",
       "      <td>0</td>\n",
       "      <td>0</td>\n",
       "      <td>49</td>\n",
       "      <td>1</td>\n",
       "    </tr>\n",
       "    <tr>\n",
       "      <th>1</th>\n",
       "      <td>0</td>\n",
       "      <td>239</td>\n",
       "      <td>0</td>\n",
       "      <td>1</td>\n",
       "      <td>0</td>\n",
       "      <td>1</td>\n",
       "      <td>0</td>\n",
       "      <td>0</td>\n",
       "      <td>0</td>\n",
       "      <td>0</td>\n",
       "      <td>...</td>\n",
       "      <td>0</td>\n",
       "      <td>1</td>\n",
       "      <td>0</td>\n",
       "      <td>0</td>\n",
       "      <td>0</td>\n",
       "      <td>0</td>\n",
       "      <td>0</td>\n",
       "      <td>0</td>\n",
       "      <td>55</td>\n",
       "      <td>1</td>\n",
       "    </tr>\n",
       "    <tr>\n",
       "      <th>2</th>\n",
       "      <td>0</td>\n",
       "      <td>260</td>\n",
       "      <td>0</td>\n",
       "      <td>4</td>\n",
       "      <td>0</td>\n",
       "      <td>3</td>\n",
       "      <td>6</td>\n",
       "      <td>0</td>\n",
       "      <td>0</td>\n",
       "      <td>0</td>\n",
       "      <td>...</td>\n",
       "      <td>0</td>\n",
       "      <td>0</td>\n",
       "      <td>0</td>\n",
       "      <td>1</td>\n",
       "      <td>1</td>\n",
       "      <td>0</td>\n",
       "      <td>0</td>\n",
       "      <td>0</td>\n",
       "      <td>56</td>\n",
       "      <td>1</td>\n",
       "    </tr>\n",
       "    <tr>\n",
       "      <th>3</th>\n",
       "      <td>17</td>\n",
       "      <td>682</td>\n",
       "      <td>0</td>\n",
       "      <td>1</td>\n",
       "      <td>0</td>\n",
       "      <td>0</td>\n",
       "      <td>8</td>\n",
       "      <td>17</td>\n",
       "      <td>0</td>\n",
       "      <td>0</td>\n",
       "      <td>...</td>\n",
       "      <td>0</td>\n",
       "      <td>1</td>\n",
       "      <td>0</td>\n",
       "      <td>1</td>\n",
       "      <td>1</td>\n",
       "      <td>0</td>\n",
       "      <td>0</td>\n",
       "      <td>0</td>\n",
       "      <td>65</td>\n",
       "      <td>1</td>\n",
       "    </tr>\n",
       "    <tr>\n",
       "      <th>4</th>\n",
       "      <td>1</td>\n",
       "      <td>540</td>\n",
       "      <td>0</td>\n",
       "      <td>2</td>\n",
       "      <td>0</td>\n",
       "      <td>1</td>\n",
       "      <td>7</td>\n",
       "      <td>1</td>\n",
       "      <td>0</td>\n",
       "      <td>0</td>\n",
       "      <td>...</td>\n",
       "      <td>0</td>\n",
       "      <td>0</td>\n",
       "      <td>0</td>\n",
       "      <td>1</td>\n",
       "      <td>1</td>\n",
       "      <td>0</td>\n",
       "      <td>0</td>\n",
       "      <td>0</td>\n",
       "      <td>175</td>\n",
       "      <td>1</td>\n",
       "    </tr>\n",
       "    <tr>\n",
       "      <th>...</th>\n",
       "      <td>...</td>\n",
       "      <td>...</td>\n",
       "      <td>...</td>\n",
       "      <td>...</td>\n",
       "      <td>...</td>\n",
       "      <td>...</td>\n",
       "      <td>...</td>\n",
       "      <td>...</td>\n",
       "      <td>...</td>\n",
       "      <td>...</td>\n",
       "      <td>...</td>\n",
       "      <td>...</td>\n",
       "      <td>...</td>\n",
       "      <td>...</td>\n",
       "      <td>...</td>\n",
       "      <td>...</td>\n",
       "      <td>...</td>\n",
       "      <td>...</td>\n",
       "      <td>...</td>\n",
       "      <td>...</td>\n",
       "      <td>...</td>\n",
       "    </tr>\n",
       "    <tr>\n",
       "      <th>20463</th>\n",
       "      <td>0</td>\n",
       "      <td>88</td>\n",
       "      <td>0</td>\n",
       "      <td>0</td>\n",
       "      <td>0</td>\n",
       "      <td>2</td>\n",
       "      <td>-1</td>\n",
       "      <td>0</td>\n",
       "      <td>0</td>\n",
       "      <td>0</td>\n",
       "      <td>...</td>\n",
       "      <td>0</td>\n",
       "      <td>1</td>\n",
       "      <td>0</td>\n",
       "      <td>0</td>\n",
       "      <td>0</td>\n",
       "      <td>0</td>\n",
       "      <td>1</td>\n",
       "      <td>0</td>\n",
       "      <td>85</td>\n",
       "      <td>0</td>\n",
       "    </tr>\n",
       "    <tr>\n",
       "      <th>20464</th>\n",
       "      <td>0</td>\n",
       "      <td>134</td>\n",
       "      <td>0</td>\n",
       "      <td>2</td>\n",
       "      <td>0</td>\n",
       "      <td>0</td>\n",
       "      <td>6</td>\n",
       "      <td>0</td>\n",
       "      <td>0</td>\n",
       "      <td>0</td>\n",
       "      <td>...</td>\n",
       "      <td>0</td>\n",
       "      <td>0</td>\n",
       "      <td>0</td>\n",
       "      <td>0</td>\n",
       "      <td>0</td>\n",
       "      <td>0</td>\n",
       "      <td>0</td>\n",
       "      <td>0</td>\n",
       "      <td>7</td>\n",
       "      <td>0</td>\n",
       "    </tr>\n",
       "    <tr>\n",
       "      <th>20465</th>\n",
       "      <td>4</td>\n",
       "      <td>393</td>\n",
       "      <td>1</td>\n",
       "      <td>1</td>\n",
       "      <td>0</td>\n",
       "      <td>0</td>\n",
       "      <td>-1</td>\n",
       "      <td>4</td>\n",
       "      <td>0</td>\n",
       "      <td>0</td>\n",
       "      <td>...</td>\n",
       "      <td>0</td>\n",
       "      <td>1</td>\n",
       "      <td>0</td>\n",
       "      <td>0</td>\n",
       "      <td>0</td>\n",
       "      <td>0</td>\n",
       "      <td>0</td>\n",
       "      <td>0</td>\n",
       "      <td>45</td>\n",
       "      <td>0</td>\n",
       "    </tr>\n",
       "    <tr>\n",
       "      <th>20466</th>\n",
       "      <td>0</td>\n",
       "      <td>10</td>\n",
       "      <td>0</td>\n",
       "      <td>1</td>\n",
       "      <td>0</td>\n",
       "      <td>0</td>\n",
       "      <td>-1</td>\n",
       "      <td>0</td>\n",
       "      <td>0</td>\n",
       "      <td>0</td>\n",
       "      <td>...</td>\n",
       "      <td>0</td>\n",
       "      <td>0</td>\n",
       "      <td>0</td>\n",
       "      <td>0</td>\n",
       "      <td>0</td>\n",
       "      <td>0</td>\n",
       "      <td>0</td>\n",
       "      <td>0</td>\n",
       "      <td>5</td>\n",
       "      <td>0</td>\n",
       "    </tr>\n",
       "    <tr>\n",
       "      <th>20467</th>\n",
       "      <td>4</td>\n",
       "      <td>399</td>\n",
       "      <td>0</td>\n",
       "      <td>3</td>\n",
       "      <td>0</td>\n",
       "      <td>1</td>\n",
       "      <td>7</td>\n",
       "      <td>4</td>\n",
       "      <td>0</td>\n",
       "      <td>0</td>\n",
       "      <td>...</td>\n",
       "      <td>0</td>\n",
       "      <td>1</td>\n",
       "      <td>0</td>\n",
       "      <td>1</td>\n",
       "      <td>1</td>\n",
       "      <td>0</td>\n",
       "      <td>0</td>\n",
       "      <td>0</td>\n",
       "      <td>72</td>\n",
       "      <td>0</td>\n",
       "    </tr>\n",
       "  </tbody>\n",
       "</table>\n",
       "<p>20468 rows × 113 columns</p>\n",
       "</div>"
      ],
      "text/plain": [
       "       col_0  col_1  col_2  col_3  col_4  col_5  col_6  col_7  col_8  col_9  \\\n",
       "0          9   1354      0     18      0      1      7      9      0      0   \n",
       "1          0    239      0      1      0      1      0      0      0      0   \n",
       "2          0    260      0      4      0      3      6      0      0      0   \n",
       "3         17    682      0      1      0      0      8     17      0      0   \n",
       "4          1    540      0      2      0      1      7      1      0      0   \n",
       "...      ...    ...    ...    ...    ...    ...    ...    ...    ...    ...   \n",
       "20463      0     88      0      0      0      2     -1      0      0      0   \n",
       "20464      0    134      0      2      0      0      6      0      0      0   \n",
       "20465      4    393      1      1      0      0     -1      4      0      0   \n",
       "20466      0     10      0      1      0      0     -1      0      0      0   \n",
       "20467      4    399      0      3      0      1      7      4      0      0   \n",
       "\n",
       "       ...  col_103  col_104  col_105  col_106  col_107  col_108  col_109  \\\n",
       "0      ...        0        0        0        1        1        0        0   \n",
       "1      ...        0        1        0        0        0        0        0   \n",
       "2      ...        0        0        0        1        1        0        0   \n",
       "3      ...        0        1        0        1        1        0        0   \n",
       "4      ...        0        0        0        1        1        0        0   \n",
       "...    ...      ...      ...      ...      ...      ...      ...      ...   \n",
       "20463  ...        0        1        0        0        0        0        1   \n",
       "20464  ...        0        0        0        0        0        0        0   \n",
       "20465  ...        0        1        0        0        0        0        0   \n",
       "20466  ...        0        0        0        0        0        0        0   \n",
       "20467  ...        0        1        0        1        1        0        0   \n",
       "\n",
       "       col_110  col_111  targets  \n",
       "0            0       49        1  \n",
       "1            0       55        1  \n",
       "2            0       56        1  \n",
       "3            0       65        1  \n",
       "4            0      175        1  \n",
       "...        ...      ...      ...  \n",
       "20463        0       85        0  \n",
       "20464        0        7        0  \n",
       "20465        0       45        0  \n",
       "20466        0        5        0  \n",
       "20467        0       72        0  \n",
       "\n",
       "[20468 rows x 113 columns]"
      ]
     },
     "metadata": {},
     "output_type": "display_data"
    }
   ],
   "source": [
    "display(df)"
   ]
  },
  {
   "cell_type": "code",
   "execution_count": 20,
   "metadata": {},
   "outputs": [
    {
     "data": {
      "text/html": [
       "<div>\n",
       "<style scoped>\n",
       "    .dataframe tbody tr th:only-of-type {\n",
       "        vertical-align: middle;\n",
       "    }\n",
       "\n",
       "    .dataframe tbody tr th {\n",
       "        vertical-align: top;\n",
       "    }\n",
       "\n",
       "    .dataframe thead th {\n",
       "        text-align: right;\n",
       "    }\n",
       "</style>\n",
       "<table border=\"1\" class=\"dataframe\">\n",
       "  <thead>\n",
       "    <tr style=\"text-align: right;\">\n",
       "      <th></th>\n",
       "      <th>count</th>\n",
       "      <th>mean</th>\n",
       "      <th>std</th>\n",
       "      <th>min</th>\n",
       "      <th>25%</th>\n",
       "      <th>50%</th>\n",
       "      <th>75%</th>\n",
       "      <th>max</th>\n",
       "    </tr>\n",
       "  </thead>\n",
       "  <tbody>\n",
       "    <tr>\n",
       "      <th>col_0</th>\n",
       "      <td>20468.0</td>\n",
       "      <td>3.226256</td>\n",
       "      <td>20.564308</td>\n",
       "      <td>0.0</td>\n",
       "      <td>0.0</td>\n",
       "      <td>0.0</td>\n",
       "      <td>2.00</td>\n",
       "      <td>2301.0</td>\n",
       "    </tr>\n",
       "    <tr>\n",
       "      <th>col_1</th>\n",
       "      <td>20468.0</td>\n",
       "      <td>294.793043</td>\n",
       "      <td>717.541984</td>\n",
       "      <td>0.0</td>\n",
       "      <td>38.0</td>\n",
       "      <td>97.0</td>\n",
       "      <td>283.00</td>\n",
       "      <td>37808.0</td>\n",
       "    </tr>\n",
       "    <tr>\n",
       "      <th>col_2</th>\n",
       "      <td>20468.0</td>\n",
       "      <td>0.420021</td>\n",
       "      <td>7.367275</td>\n",
       "      <td>0.0</td>\n",
       "      <td>0.0</td>\n",
       "      <td>0.0</td>\n",
       "      <td>0.00</td>\n",
       "      <td>904.0</td>\n",
       "    </tr>\n",
       "    <tr>\n",
       "      <th>col_3</th>\n",
       "      <td>20468.0</td>\n",
       "      <td>2.329343</td>\n",
       "      <td>10.068512</td>\n",
       "      <td>0.0</td>\n",
       "      <td>0.0</td>\n",
       "      <td>1.0</td>\n",
       "      <td>2.00</td>\n",
       "      <td>772.0</td>\n",
       "    </tr>\n",
       "    <tr>\n",
       "      <th>col_4</th>\n",
       "      <td>20468.0</td>\n",
       "      <td>0.083594</td>\n",
       "      <td>0.840537</td>\n",
       "      <td>0.0</td>\n",
       "      <td>0.0</td>\n",
       "      <td>0.0</td>\n",
       "      <td>0.00</td>\n",
       "      <td>54.0</td>\n",
       "    </tr>\n",
       "    <tr>\n",
       "      <th>...</th>\n",
       "      <td>...</td>\n",
       "      <td>...</td>\n",
       "      <td>...</td>\n",
       "      <td>...</td>\n",
       "      <td>...</td>\n",
       "      <td>...</td>\n",
       "      <td>...</td>\n",
       "      <td>...</td>\n",
       "    </tr>\n",
       "    <tr>\n",
       "      <th>col_108</th>\n",
       "      <td>20468.0</td>\n",
       "      <td>0.000049</td>\n",
       "      <td>0.006990</td>\n",
       "      <td>0.0</td>\n",
       "      <td>0.0</td>\n",
       "      <td>0.0</td>\n",
       "      <td>0.00</td>\n",
       "      <td>1.0</td>\n",
       "    </tr>\n",
       "    <tr>\n",
       "      <th>col_109</th>\n",
       "      <td>20468.0</td>\n",
       "      <td>0.049345</td>\n",
       "      <td>0.216593</td>\n",
       "      <td>0.0</td>\n",
       "      <td>0.0</td>\n",
       "      <td>0.0</td>\n",
       "      <td>0.00</td>\n",
       "      <td>1.0</td>\n",
       "    </tr>\n",
       "    <tr>\n",
       "      <th>col_110</th>\n",
       "      <td>20468.0</td>\n",
       "      <td>0.024282</td>\n",
       "      <td>0.305079</td>\n",
       "      <td>0.0</td>\n",
       "      <td>0.0</td>\n",
       "      <td>0.0</td>\n",
       "      <td>0.00</td>\n",
       "      <td>17.0</td>\n",
       "    </tr>\n",
       "    <tr>\n",
       "      <th>col_111</th>\n",
       "      <td>20468.0</td>\n",
       "      <td>43.486125</td>\n",
       "      <td>59.217560</td>\n",
       "      <td>0.0</td>\n",
       "      <td>5.0</td>\n",
       "      <td>19.0</td>\n",
       "      <td>61.25</td>\n",
       "      <td>747.0</td>\n",
       "    </tr>\n",
       "    <tr>\n",
       "      <th>targets</th>\n",
       "      <td>20468.0</td>\n",
       "      <td>0.265683</td>\n",
       "      <td>0.441707</td>\n",
       "      <td>0.0</td>\n",
       "      <td>0.0</td>\n",
       "      <td>0.0</td>\n",
       "      <td>1.00</td>\n",
       "      <td>1.0</td>\n",
       "    </tr>\n",
       "  </tbody>\n",
       "</table>\n",
       "<p>113 rows × 8 columns</p>\n",
       "</div>"
      ],
      "text/plain": [
       "           count        mean         std  min   25%   50%     75%      max\n",
       "col_0    20468.0    3.226256   20.564308  0.0   0.0   0.0    2.00   2301.0\n",
       "col_1    20468.0  294.793043  717.541984  0.0  38.0  97.0  283.00  37808.0\n",
       "col_2    20468.0    0.420021    7.367275  0.0   0.0   0.0    0.00    904.0\n",
       "col_3    20468.0    2.329343   10.068512  0.0   0.0   1.0    2.00    772.0\n",
       "col_4    20468.0    0.083594    0.840537  0.0   0.0   0.0    0.00     54.0\n",
       "...          ...         ...         ...  ...   ...   ...     ...      ...\n",
       "col_108  20468.0    0.000049    0.006990  0.0   0.0   0.0    0.00      1.0\n",
       "col_109  20468.0    0.049345    0.216593  0.0   0.0   0.0    0.00      1.0\n",
       "col_110  20468.0    0.024282    0.305079  0.0   0.0   0.0    0.00     17.0\n",
       "col_111  20468.0   43.486125   59.217560  0.0   5.0  19.0   61.25    747.0\n",
       "targets  20468.0    0.265683    0.441707  0.0   0.0   0.0    1.00      1.0\n",
       "\n",
       "[113 rows x 8 columns]"
      ]
     },
     "metadata": {},
     "output_type": "display_data"
    }
   ],
   "source": [
    "display(df.describe().T)"
   ]
  },
  {
   "cell_type": "code",
   "execution_count": 62,
   "metadata": {},
   "outputs": [],
   "source": [
    "model = LogisticRegression(max_iter=1000)\n",
    "X = StandardScaler().fit_transform(df.drop('targets',axis=1))\n",
    "y = df.targets.to_numpy().reshape(-1)"
   ]
  },
  {
   "cell_type": "code",
   "execution_count": 63,
   "metadata": {},
   "outputs": [
    {
     "data": {
      "text/plain": [
       "LogisticRegression(max_iter=1000)"
      ]
     },
     "execution_count": 63,
     "metadata": {},
     "output_type": "execute_result"
    }
   ],
   "source": [
    "model.fit(X,y)"
   ]
  },
  {
   "cell_type": "code",
   "execution_count": 64,
   "metadata": {},
   "outputs": [
    {
     "data": {
      "text/plain": [
       "0.11774477232753566"
      ]
     },
     "execution_count": 64,
     "metadata": {},
     "output_type": "execute_result"
    }
   ],
   "source": [
    "y_pred = model.predict(X)\n",
    "mean_squared_error(y,y_pred)"
   ]
  },
  {
   "cell_type": "code",
   "execution_count": 65,
   "metadata": {},
   "outputs": [
    {
     "data": {
      "text/plain": [
       "<sklearn.metrics._plot.confusion_matrix.ConfusionMatrixDisplay at 0x1d98123e940>"
      ]
     },
     "execution_count": 65,
     "metadata": {},
     "output_type": "execute_result"
    },
    {
     "data": {
      "image/png": "[encoded data removed]",
      "text/plain": [
       "<Figure size 432x288 with 2 Axes>"
      ]
     },
     "metadata": {
      "needs_background": "light"
     },
     "output_type": "display_data"
    }
   ],
   "source": [
    "ConfusionMatrixDisplay(confusion_matrix(y,y_pred)).plot()"
   ]
  },
  {
   "cell_type": "code",
   "execution_count": 85,
   "metadata": {},
   "outputs": [
    {
     "data": {
      "text/plain": [
       "(array([-2.01901032]),\n",
       " array([[ 1.50136895e-01,  8.71646386e-01, -3.80341749e+00,\n",
       "         -4.41167071e+00, -5.92083423e-02, -2.22221587e-01,\n",
       "          1.17563797e-01,  1.50136895e-01,  0.00000000e+00,\n",
       "          0.00000000e+00,  0.00000000e+00,  0.00000000e+00,\n",
       "          0.00000000e+00,  1.55082381e-01, -4.61679467e-01,\n",
       "         -4.93808975e-02,  2.71364259e-01, -5.34895547e-03,\n",
       "          0.00000000e+00,  0.00000000e+00,  0.00000000e+00,\n",
       "          0.00000000e+00, -4.09774367e-01, -4.29036238e-01,\n",
       "          2.43975547e+00, -6.68889123e-01, -4.76535893e-01,\n",
       "          9.10938945e-02,  3.82647503e-02,  1.63039601e-01,\n",
       "          4.53051202e-02, -2.21873318e-01,  2.34080934e-03,\n",
       "         -5.06954409e-02,  6.17475391e-02,  0.00000000e+00,\n",
       "          4.52920295e-01, -6.04269475e-01, -4.45951081e-02,\n",
       "          5.97840864e-02, -2.87392970e-01, -2.36343493e-02,\n",
       "         -1.60380095e-01, -3.25436694e-01, -1.06826231e+00,\n",
       "         -2.47669039e-01,  8.23181947e-03,  1.77815322e+00,\n",
       "         -1.12900995e+00,  2.29451322e-01, -4.33214749e-01,\n",
       "          0.00000000e+00,  0.00000000e+00,  0.00000000e+00,\n",
       "         -6.43788271e-01,  1.38302432e+00,  4.46391336e-01,\n",
       "          1.76644446e-01,  1.76942898e-04,  1.79062496e-01,\n",
       "         -4.41903837e-01,  1.08616106e-02,  1.05118854e+00,\n",
       "          3.51305869e-01, -1.21821962e+00, -4.08793751e-01,\n",
       "          2.54499223e-01, -6.36779890e-01, -5.57337564e-01,\n",
       "          2.28548395e+00,  0.00000000e+00,  0.00000000e+00,\n",
       "          8.81379460e-02,  1.72113251e-01,  5.92638681e-01,\n",
       "         -3.47084515e-02,  1.07295416e-01,  1.75801218e-01,\n",
       "          1.46818534e-03, -2.38211853e-02,  3.31261569e-03,\n",
       "          2.92919770e-02, -9.46515739e-02,  6.02179897e-01,\n",
       "          6.20738235e-02,  1.46336678e-01,  1.62410674e-01,\n",
       "         -4.84916324e-03, -4.23641327e-02, -1.70005506e-01,\n",
       "         -3.62447663e-01,  6.61990055e-02, -8.91618390e-02,\n",
       "         -2.99387629e-01,  2.51659092e-01,  2.37918796e-02,\n",
       "         -3.90107840e-01, -2.57218225e-01, -5.43522856e-01,\n",
       "         -4.69685356e-01, -3.89816181e-01, -8.01458982e-02,\n",
       "         -1.27771557e+00, -1.72935283e-01, -3.04220677e-01,\n",
       "          3.97795474e-02, -1.31330662e+00, -2.62477240e-01,\n",
       "         -3.75030922e-02, -8.56065969e-02,  5.83211969e-01,\n",
       "          2.92719533e-01]]))"
      ]
     },
     "execution_count": 85,
     "metadata": {},
     "output_type": "execute_result"
    }
   ],
   "source": [
    "model.intercept_ , model.coef_"
   ]
  },
  {
   "cell_type": "code",
   "execution_count": 94,
   "metadata": {},
   "outputs": [
    {
     "name": "stdout",
     "output_type": "stream",
     "text": [
      "Wall time: 3.53 s\n"
     ]
    },
    {
     "data": {
      "text/plain": [
       "[<matplotlib.lines.Line2D at 0x1d9804fbb20>]"
      ]
     },
     "execution_count": 94,
     "metadata": {},
     "output_type": "execute_result"
    },
    {
     "data": {
      "image/png": "[encoded data removed]",
      "text/plain": [
       "<Figure size 432x288 with 1 Axes>"
      ]
     },
     "metadata": {
      "needs_background": "light"
     },
     "output_type": "display_data"
    }
   ],
   "source": [
    "%%time\n",
    "intcpt = model.intercept_[0]\n",
    "delta =  0.1*intcpt # delta de 10%\n",
    "intcpt_array = np.linspace(intcpt-delta,intcpt+delta,1000)\n",
    "mse_array = []\n",
    "for i in intcpt_array:\n",
    "    model.intercept_ = np.array([i])\n",
    "    y_aux = model.predict(X)\n",
    "    mse_array.append(mean_squared_error(y,y_aux))\n",
    "    \n",
    "mse_array = np.array(mse_array)\n",
    "model.intercept_ = np.array([intcpt])\n",
    "\n",
    "plt.plot(intcpt_array,mse_array)"
   ]
  },
  {
   "cell_type": "code",
   "execution_count": 95,
   "metadata": {},
   "outputs": [
    {
     "name": "stdout",
     "output_type": "stream",
     "text": [
      "Wall time: 3.86 s\n"
     ]
    },
    {
     "data": {
      "text/plain": [
       "[<matplotlib.lines.Line2D at 0x1d98055c160>]"
      ]
     },
     "execution_count": 95,
     "metadata": {},
     "output_type": "execute_result"
    },
    {
     "data": {
      "image/png": "[encoded data removed]",
      "text/plain": [
       "<Figure size 432x288 with 1 Axes>"
      ]
     },
     "metadata": {
      "needs_background": "light"
     },
     "output_type": "display_data"
    }
   ],
   "source": [
    "%%time\n",
    "intcpt = model.intercept_[0]\n",
    "delta =  0.5*intcpt # delta de 50%\n",
    "intcpt_array = np.linspace(intcpt-delta,intcpt+delta,1000)\n",
    "mse_array = []\n",
    "for i in intcpt_array:\n",
    "    model.intercept_ = np.array([i])\n",
    "    y_aux = model.predict(X)\n",
    "    mse_array.append(mean_squared_error(y,y_aux))\n",
    "    \n",
    "mse_array = np.array(mse_array)\n",
    "model.intercept_ = np.array([intcpt])\n",
    "\n",
    "plt.plot(intcpt_array,mse_array)"
   ]
  },
  {
   "cell_type": "code",
   "execution_count": 96,
   "metadata": {},
   "outputs": [
    {
     "name": "stdout",
     "output_type": "stream",
     "text": [
      "Wall time: 3.7 s\n"
     ]
    },
    {
     "data": {
      "text/plain": [
       "[<matplotlib.lines.Line2D at 0x1d9805b91f0>]"
      ]
     },
     "execution_count": 96,
     "metadata": {},
     "output_type": "execute_result"
    },
    {
     "data": {
      "image/png": "[encoded data removed]",
      "text/plain": [
       "<Figure size 432x288 with 1 Axes>"
      ]
     },
     "metadata": {
      "needs_background": "light"
     },
     "output_type": "display_data"
    }
   ],
   "source": [
    "%%time\n",
    "intcpt = model.intercept_[0]\n",
    "delta =  1*intcpt # delta de 100%\n",
    "intcpt_array = np.linspace(intcpt-delta,intcpt+delta,1000)\n",
    "mse_array = []\n",
    "for i in intcpt_array:\n",
    "    model.intercept_ = np.array([i])\n",
    "    y_aux = model.predict(X)\n",
    "    mse_array.append(mean_squared_error(y,y_aux))\n",
    "    \n",
    "mse_array = np.array(mse_array)\n",
    "model.intercept_ = np.array([intcpt])\n",
    "\n",
    "plt.plot(intcpt_array,mse_array)"
   ]
  },
  {
   "cell_type": "code",
   "execution_count": 97,
   "metadata": {},
   "outputs": [
    {
     "name": "stdout",
     "output_type": "stream",
     "text": [
      "Wall time: 3.34 s\n"
     ]
    },
    {
     "data": {
      "text/plain": [
       "[<matplotlib.lines.Line2D at 0x1d9806167c0>]"
      ]
     },
     "execution_count": 97,
     "metadata": {},
     "output_type": "execute_result"
    },
    {
     "data": {
      "image/png": "[encoded data removed]",
      "text/plain": [
       "<Figure size 432x288 with 1 Axes>"
      ]
     },
     "metadata": {
      "needs_background": "light"
     },
     "output_type": "display_data"
    }
   ],
   "source": [
    "%%time\n",
    "intcpt = model.intercept_[0]\n",
    "delta =  10*intcpt # delta de 1000%\n",
    "intcpt_array = np.linspace(intcpt-delta,intcpt+delta,1000)\n",
    "mse_array = []\n",
    "for i in intcpt_array:\n",
    "    model.intercept_ = np.array([i])\n",
    "    y_aux = model.predict(X)\n",
    "    mse_array.append(mean_squared_error(y,y_aux))\n",
    "    \n",
    "mse_array = np.array(mse_array)\n",
    "model.intercept_ = np.array([intcpt])\n",
    "\n",
    "plt.plot(intcpt_array,mse_array)"
   ]
  },
  {
   "cell_type": "code",
   "execution_count": null,
   "metadata": {},
   "outputs": [],
   "source": []
  }
 ],
 "metadata": {
  "kernelspec": {
   "display_name": "Python 3 (ipykernel)",
   "language": "python",
   "name": "python3"
  },
  "language_info": {
   "codemirror_mode": {
    "name": "ipython",
    "version": 3
   },
   "file_extension": ".py",
   "mimetype": "text/x-python",
   "name": "python",
   "nbconvert_exporter": "python",
   "pygments_lexer": "ipython3",
   "version": "3.8.12"
  }
 },
 "nbformat": 4,
 "nbformat_minor": 4
}
