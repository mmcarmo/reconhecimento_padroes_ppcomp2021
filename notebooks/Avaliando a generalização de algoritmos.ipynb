{
 "cells": [
  {
   "cell_type": "code",
   "execution_count": 1,
   "id": "d2f44852",
   "metadata": {},
   "outputs": [
    {
     "data": {
      "text/plain": [
       "('1.20.3', '1.3.3', '0.24.2', '3.4.2')"
      ]
     },
     "execution_count": 1,
     "metadata": {},
     "output_type": "execute_result"
    }
   ],
   "source": [
    "import numpy as np\n",
    "import pandas as pd\n",
    "import sklearn\n",
    "import matplotlib\n",
    "import matplotlib.pyplot as plt\n",
    "import seaborn as sns\n",
    "from IPython.display import display\n",
    "\n",
    "from sklearn.preprocessing import StandardScaler\n",
    "from sklearn.linear_model import LogisticRegression\n",
    "from sklearn.neighbors import KNeighborsClassifier\n",
    "\n",
    "\n",
    "from sklearn.pipeline import Pipeline\n",
    "from sklearn.model_selection import GridSearchCV\n",
    "from sklearn.model_selection import cross_validate\n",
    "from sklearn.model_selection import StratifiedKFold\n",
    "from sklearn.model_selection import train_test_split\n",
    "\n",
    "from sklearn.metrics import mean_squared_error\n",
    "from sklearn.metrics import accuracy_score\n",
    "from sklearn.metrics import balanced_accuracy_score\n",
    "from sklearn.metrics import confusion_matrix,ConfusionMatrixDisplay\n",
    "\n",
    "from tqdm import tqdm\n",
    "\n",
    "np.__version__,pd.__version__,sklearn.__version__,matplotlib.__version__"
   ]
  },
  {
   "cell_type": "code",
   "execution_count": 2,
   "id": "874c7d0f",
   "metadata": {},
   "outputs": [],
   "source": [
    "# Dataset capturado do desafio https://www.kaggle.com/volodymyrgavrysh/fraud-detection-bank-dataset-20k-records-binary\n",
    "df = pd.read_csv('../data/fraud_detection_bank_dataset.csv',index_col=0)\n",
    "\n"
   ]
  },
  {
   "cell_type": "code",
   "execution_count": 3,
   "id": "6280776f",
   "metadata": {},
   "outputs": [
    {
     "data": {
      "text/html": [
       "<div>\n",
       "<style scoped>\n",
       "    .dataframe tbody tr th:only-of-type {\n",
       "        vertical-align: middle;\n",
       "    }\n",
       "\n",
       "    .dataframe tbody tr th {\n",
       "        vertical-align: top;\n",
       "    }\n",
       "\n",
       "    .dataframe thead th {\n",
       "        text-align: right;\n",
       "    }\n",
       "</style>\n",
       "<table border=\"1\" class=\"dataframe\">\n",
       "  <thead>\n",
       "    <tr style=\"text-align: right;\">\n",
       "      <th></th>\n",
       "      <th>count</th>\n",
       "      <th>mean</th>\n",
       "      <th>std</th>\n",
       "      <th>min</th>\n",
       "      <th>25%</th>\n",
       "      <th>50%</th>\n",
       "      <th>75%</th>\n",
       "      <th>max</th>\n",
       "    </tr>\n",
       "  </thead>\n",
       "  <tbody>\n",
       "    <tr>\n",
       "      <th>col_21</th>\n",
       "      <td>20468.0</td>\n",
       "      <td>0.000000</td>\n",
       "      <td>0.000000</td>\n",
       "      <td>0.0</td>\n",
       "      <td>0.0</td>\n",
       "      <td>0.0</td>\n",
       "      <td>0.0</td>\n",
       "      <td>0.0</td>\n",
       "    </tr>\n",
       "    <tr>\n",
       "      <th>col_91</th>\n",
       "      <td>20468.0</td>\n",
       "      <td>0.000391</td>\n",
       "      <td>0.019767</td>\n",
       "      <td>0.0</td>\n",
       "      <td>0.0</td>\n",
       "      <td>0.0</td>\n",
       "      <td>0.0</td>\n",
       "      <td>1.0</td>\n",
       "    </tr>\n",
       "    <tr>\n",
       "      <th>col_15</th>\n",
       "      <td>20468.0</td>\n",
       "      <td>0.330760</td>\n",
       "      <td>0.470498</td>\n",
       "      <td>0.0</td>\n",
       "      <td>0.0</td>\n",
       "      <td>0.0</td>\n",
       "      <td>1.0</td>\n",
       "      <td>1.0</td>\n",
       "    </tr>\n",
       "    <tr>\n",
       "      <th>col_36</th>\n",
       "      <td>20468.0</td>\n",
       "      <td>17.981776</td>\n",
       "      <td>675.933608</td>\n",
       "      <td>0.0</td>\n",
       "      <td>0.0</td>\n",
       "      <td>0.0</td>\n",
       "      <td>4.0</td>\n",
       "      <td>94642.0</td>\n",
       "    </tr>\n",
       "    <tr>\n",
       "      <th>col_13</th>\n",
       "      <td>20468.0</td>\n",
       "      <td>0.038646</td>\n",
       "      <td>0.192754</td>\n",
       "      <td>0.0</td>\n",
       "      <td>0.0</td>\n",
       "      <td>0.0</td>\n",
       "      <td>0.0</td>\n",
       "      <td>1.0</td>\n",
       "    </tr>\n",
       "    <tr>\n",
       "      <th>col_41</th>\n",
       "      <td>20468.0</td>\n",
       "      <td>0.608315</td>\n",
       "      <td>4.202274</td>\n",
       "      <td>0.0</td>\n",
       "      <td>0.0</td>\n",
       "      <td>0.0</td>\n",
       "      <td>0.0</td>\n",
       "      <td>254.0</td>\n",
       "    </tr>\n",
       "    <tr>\n",
       "      <th>col_49</th>\n",
       "      <td>20468.0</td>\n",
       "      <td>23.753225</td>\n",
       "      <td>345.441008</td>\n",
       "      <td>0.0</td>\n",
       "      <td>0.0</td>\n",
       "      <td>0.0</td>\n",
       "      <td>5.0</td>\n",
       "      <td>41900.0</td>\n",
       "    </tr>\n",
       "    <tr>\n",
       "      <th>col_96</th>\n",
       "      <td>20468.0</td>\n",
       "      <td>0.211061</td>\n",
       "      <td>0.408072</td>\n",
       "      <td>0.0</td>\n",
       "      <td>0.0</td>\n",
       "      <td>0.0</td>\n",
       "      <td>0.0</td>\n",
       "      <td>1.0</td>\n",
       "    </tr>\n",
       "    <tr>\n",
       "      <th>col_102</th>\n",
       "      <td>20468.0</td>\n",
       "      <td>0.365595</td>\n",
       "      <td>0.558812</td>\n",
       "      <td>0.0</td>\n",
       "      <td>0.0</td>\n",
       "      <td>0.0</td>\n",
       "      <td>1.0</td>\n",
       "      <td>20.0</td>\n",
       "    </tr>\n",
       "    <tr>\n",
       "      <th>col_84</th>\n",
       "      <td>20468.0</td>\n",
       "      <td>0.022230</td>\n",
       "      <td>0.147434</td>\n",
       "      <td>0.0</td>\n",
       "      <td>0.0</td>\n",
       "      <td>0.0</td>\n",
       "      <td>0.0</td>\n",
       "      <td>1.0</td>\n",
       "    </tr>\n",
       "    <tr>\n",
       "      <th>col_4</th>\n",
       "      <td>20468.0</td>\n",
       "      <td>0.083594</td>\n",
       "      <td>0.840537</td>\n",
       "      <td>0.0</td>\n",
       "      <td>0.0</td>\n",
       "      <td>0.0</td>\n",
       "      <td>0.0</td>\n",
       "      <td>54.0</td>\n",
       "    </tr>\n",
       "    <tr>\n",
       "      <th>col_68</th>\n",
       "      <td>20468.0</td>\n",
       "      <td>36.608951</td>\n",
       "      <td>86.601625</td>\n",
       "      <td>0.0</td>\n",
       "      <td>0.0</td>\n",
       "      <td>0.0</td>\n",
       "      <td>27.0</td>\n",
       "      <td>1665.0</td>\n",
       "    </tr>\n",
       "    <tr>\n",
       "      <th>col_110</th>\n",
       "      <td>20468.0</td>\n",
       "      <td>0.024282</td>\n",
       "      <td>0.305079</td>\n",
       "      <td>0.0</td>\n",
       "      <td>0.0</td>\n",
       "      <td>0.0</td>\n",
       "      <td>0.0</td>\n",
       "      <td>17.0</td>\n",
       "    </tr>\n",
       "    <tr>\n",
       "      <th>col_25</th>\n",
       "      <td>20468.0</td>\n",
       "      <td>2.701925</td>\n",
       "      <td>14.340519</td>\n",
       "      <td>0.0</td>\n",
       "      <td>0.0</td>\n",
       "      <td>0.0</td>\n",
       "      <td>1.0</td>\n",
       "      <td>693.0</td>\n",
       "    </tr>\n",
       "    <tr>\n",
       "      <th>col_30</th>\n",
       "      <td>20468.0</td>\n",
       "      <td>6.184043</td>\n",
       "      <td>22.127733</td>\n",
       "      <td>0.0</td>\n",
       "      <td>0.0</td>\n",
       "      <td>0.0</td>\n",
       "      <td>3.0</td>\n",
       "      <td>973.0</td>\n",
       "    </tr>\n",
       "    <tr>\n",
       "      <th>col_34</th>\n",
       "      <td>20468.0</td>\n",
       "      <td>2.483926</td>\n",
       "      <td>18.287974</td>\n",
       "      <td>0.0</td>\n",
       "      <td>0.0</td>\n",
       "      <td>0.0</td>\n",
       "      <td>0.0</td>\n",
       "      <td>857.0</td>\n",
       "    </tr>\n",
       "    <tr>\n",
       "      <th>col_12</th>\n",
       "      <td>20468.0</td>\n",
       "      <td>0.000000</td>\n",
       "      <td>0.000000</td>\n",
       "      <td>0.0</td>\n",
       "      <td>0.0</td>\n",
       "      <td>0.0</td>\n",
       "      <td>0.0</td>\n",
       "      <td>0.0</td>\n",
       "    </tr>\n",
       "    <tr>\n",
       "      <th>col_38</th>\n",
       "      <td>20468.0</td>\n",
       "      <td>167.509380</td>\n",
       "      <td>785.655354</td>\n",
       "      <td>0.0</td>\n",
       "      <td>0.0</td>\n",
       "      <td>0.0</td>\n",
       "      <td>71.0</td>\n",
       "      <td>73318.0</td>\n",
       "    </tr>\n",
       "    <tr>\n",
       "      <th>col_83</th>\n",
       "      <td>20468.0</td>\n",
       "      <td>0.101133</td>\n",
       "      <td>0.301513</td>\n",
       "      <td>0.0</td>\n",
       "      <td>0.0</td>\n",
       "      <td>0.0</td>\n",
       "      <td>0.0</td>\n",
       "      <td>1.0</td>\n",
       "    </tr>\n",
       "    <tr>\n",
       "      <th>col_50</th>\n",
       "      <td>20468.0</td>\n",
       "      <td>25.238421</td>\n",
       "      <td>2037.403967</td>\n",
       "      <td>0.0</td>\n",
       "      <td>0.0</td>\n",
       "      <td>0.0</td>\n",
       "      <td>2.0</td>\n",
       "      <td>291269.0</td>\n",
       "    </tr>\n",
       "    <tr>\n",
       "      <th>col_90</th>\n",
       "      <td>20468.0</td>\n",
       "      <td>0.082617</td>\n",
       "      <td>0.275309</td>\n",
       "      <td>0.0</td>\n",
       "      <td>0.0</td>\n",
       "      <td>0.0</td>\n",
       "      <td>0.0</td>\n",
       "      <td>1.0</td>\n",
       "    </tr>\n",
       "    <tr>\n",
       "      <th>col_106</th>\n",
       "      <td>20468.0</td>\n",
       "      <td>0.308384</td>\n",
       "      <td>0.461837</td>\n",
       "      <td>0.0</td>\n",
       "      <td>0.0</td>\n",
       "      <td>0.0</td>\n",
       "      <td>1.0</td>\n",
       "      <td>1.0</td>\n",
       "    </tr>\n",
       "    <tr>\n",
       "      <th>col_78</th>\n",
       "      <td>20468.0</td>\n",
       "      <td>0.000440</td>\n",
       "      <td>0.020965</td>\n",
       "      <td>0.0</td>\n",
       "      <td>0.0</td>\n",
       "      <td>0.0</td>\n",
       "      <td>0.0</td>\n",
       "      <td>1.0</td>\n",
       "    </tr>\n",
       "    <tr>\n",
       "      <th>col_70</th>\n",
       "      <td>20468.0</td>\n",
       "      <td>0.000000</td>\n",
       "      <td>0.000000</td>\n",
       "      <td>0.0</td>\n",
       "      <td>0.0</td>\n",
       "      <td>0.0</td>\n",
       "      <td>0.0</td>\n",
       "      <td>0.0</td>\n",
       "    </tr>\n",
       "    <tr>\n",
       "      <th>col_72</th>\n",
       "      <td>20468.0</td>\n",
       "      <td>0.005570</td>\n",
       "      <td>0.074424</td>\n",
       "      <td>0.0</td>\n",
       "      <td>0.0</td>\n",
       "      <td>0.0</td>\n",
       "      <td>0.0</td>\n",
       "      <td>1.0</td>\n",
       "    </tr>\n",
       "    <tr>\n",
       "      <th>col_28</th>\n",
       "      <td>20468.0</td>\n",
       "      <td>0.999951</td>\n",
       "      <td>0.006990</td>\n",
       "      <td>0.0</td>\n",
       "      <td>1.0</td>\n",
       "      <td>1.0</td>\n",
       "      <td>1.0</td>\n",
       "      <td>1.0</td>\n",
       "    </tr>\n",
       "    <tr>\n",
       "      <th>col_59</th>\n",
       "      <td>20468.0</td>\n",
       "      <td>0.215751</td>\n",
       "      <td>2.163711</td>\n",
       "      <td>0.0</td>\n",
       "      <td>0.0</td>\n",
       "      <td>0.0</td>\n",
       "      <td>0.0</td>\n",
       "      <td>145.0</td>\n",
       "    </tr>\n",
       "    <tr>\n",
       "      <th>col_16</th>\n",
       "      <td>20468.0</td>\n",
       "      <td>0.412644</td>\n",
       "      <td>0.492322</td>\n",
       "      <td>0.0</td>\n",
       "      <td>0.0</td>\n",
       "      <td>0.0</td>\n",
       "      <td>1.0</td>\n",
       "      <td>1.0</td>\n",
       "    </tr>\n",
       "    <tr>\n",
       "      <th>col_7</th>\n",
       "      <td>20468.0</td>\n",
       "      <td>3.226256</td>\n",
       "      <td>20.564308</td>\n",
       "      <td>0.0</td>\n",
       "      <td>0.0</td>\n",
       "      <td>0.0</td>\n",
       "      <td>2.0</td>\n",
       "      <td>2301.0</td>\n",
       "    </tr>\n",
       "    <tr>\n",
       "      <th>col_1</th>\n",
       "      <td>20468.0</td>\n",
       "      <td>294.793043</td>\n",
       "      <td>717.541984</td>\n",
       "      <td>0.0</td>\n",
       "      <td>38.0</td>\n",
       "      <td>97.0</td>\n",
       "      <td>283.0</td>\n",
       "      <td>37808.0</td>\n",
       "    </tr>\n",
       "  </tbody>\n",
       "</table>\n",
       "</div>"
      ],
      "text/plain": [
       "           count        mean          std  min   25%   50%    75%       max\n",
       "col_21   20468.0    0.000000     0.000000  0.0   0.0   0.0    0.0       0.0\n",
       "col_91   20468.0    0.000391     0.019767  0.0   0.0   0.0    0.0       1.0\n",
       "col_15   20468.0    0.330760     0.470498  0.0   0.0   0.0    1.0       1.0\n",
       "col_36   20468.0   17.981776   675.933608  0.0   0.0   0.0    4.0   94642.0\n",
       "col_13   20468.0    0.038646     0.192754  0.0   0.0   0.0    0.0       1.0\n",
       "col_41   20468.0    0.608315     4.202274  0.0   0.0   0.0    0.0     254.0\n",
       "col_49   20468.0   23.753225   345.441008  0.0   0.0   0.0    5.0   41900.0\n",
       "col_96   20468.0    0.211061     0.408072  0.0   0.0   0.0    0.0       1.0\n",
       "col_102  20468.0    0.365595     0.558812  0.0   0.0   0.0    1.0      20.0\n",
       "col_84   20468.0    0.022230     0.147434  0.0   0.0   0.0    0.0       1.0\n",
       "col_4    20468.0    0.083594     0.840537  0.0   0.0   0.0    0.0      54.0\n",
       "col_68   20468.0   36.608951    86.601625  0.0   0.0   0.0   27.0    1665.0\n",
       "col_110  20468.0    0.024282     0.305079  0.0   0.0   0.0    0.0      17.0\n",
       "col_25   20468.0    2.701925    14.340519  0.0   0.0   0.0    1.0     693.0\n",
       "col_30   20468.0    6.184043    22.127733  0.0   0.0   0.0    3.0     973.0\n",
       "col_34   20468.0    2.483926    18.287974  0.0   0.0   0.0    0.0     857.0\n",
       "col_12   20468.0    0.000000     0.000000  0.0   0.0   0.0    0.0       0.0\n",
       "col_38   20468.0  167.509380   785.655354  0.0   0.0   0.0   71.0   73318.0\n",
       "col_83   20468.0    0.101133     0.301513  0.0   0.0   0.0    0.0       1.0\n",
       "col_50   20468.0   25.238421  2037.403967  0.0   0.0   0.0    2.0  291269.0\n",
       "col_90   20468.0    0.082617     0.275309  0.0   0.0   0.0    0.0       1.0\n",
       "col_106  20468.0    0.308384     0.461837  0.0   0.0   0.0    1.0       1.0\n",
       "col_78   20468.0    0.000440     0.020965  0.0   0.0   0.0    0.0       1.0\n",
       "col_70   20468.0    0.000000     0.000000  0.0   0.0   0.0    0.0       0.0\n",
       "col_72   20468.0    0.005570     0.074424  0.0   0.0   0.0    0.0       1.0\n",
       "col_28   20468.0    0.999951     0.006990  0.0   1.0   1.0    1.0       1.0\n",
       "col_59   20468.0    0.215751     2.163711  0.0   0.0   0.0    0.0     145.0\n",
       "col_16   20468.0    0.412644     0.492322  0.0   0.0   0.0    1.0       1.0\n",
       "col_7    20468.0    3.226256    20.564308  0.0   0.0   0.0    2.0    2301.0\n",
       "col_1    20468.0  294.793043   717.541984  0.0  38.0  97.0  283.0   37808.0"
      ]
     },
     "execution_count": 3,
     "metadata": {},
     "output_type": "execute_result"
    }
   ],
   "source": [
    "df.iloc[:,:-1].describe().T.sample(30) # Existem um grande problema de escala entre as caracteristicas deste dataset"
   ]
  },
  {
   "cell_type": "code",
   "execution_count": 4,
   "id": "d60f7c18",
   "metadata": {},
   "outputs": [
    {
     "data": {
      "text/plain": [
       "<AxesSubplot:>"
      ]
     },
     "execution_count": 4,
     "metadata": {},
     "output_type": "execute_result"
    },
    {
     "data": {
      "image/png": "[encoded data removed]",
      "text/plain": [
       "<Figure size 432x288 with 1 Axes>"
      ]
     },
     "metadata": {
      "needs_background": "light"
     },
     "output_type": "display_data"
    }
   ],
   "source": [
    "# Verificando se o dataset é balanceado em suas respostas.\n",
    "# Este dataset possui proporção de 3 classes \"zero\" (não é fraude) para cada 1 classe um (fraude)\n",
    "df.targets.hist()"
   ]
  },
  {
   "cell_type": "markdown",
   "id": "7ee9fd77",
   "metadata": {},
   "source": [
    "__________________________________________________________________________________\n",
    "# Primeira Estratégia - Fazer GridSearchCV nos parametros do pipeline com StandardScaler() e classificadores KNN e LogisticRegressor\n",
    "__________________________________________________________________________________"
   ]
  },
  {
   "cell_type": "code",
   "execution_count": 5,
   "id": "beb8e715",
   "metadata": {},
   "outputs": [],
   "source": [
    "# Definição do pipeline KNN\n",
    "pipe_knn = Pipeline([\n",
    "                    ('scaler', StandardScaler()),\n",
    "                    ('knn', KNeighborsClassifier())\n",
    "                ])\n",
    "\n",
    "# Definição do pipeline LogisticRegressor\n",
    "pipe_logreg = Pipeline([\n",
    "                    ('scaler', StandardScaler()),\n",
    "                    ('logreg', LogisticRegression())\n",
    "                ])"
   ]
  },
  {
   "cell_type": "code",
   "execution_count": 6,
   "id": "40ffe246",
   "metadata": {},
   "outputs": [
    {
     "name": "stdout",
     "output_type": "stream",
     "text": [
      "dict_keys(['memory', 'steps', 'verbose', 'scaler', 'knn', 'scaler__copy', 'scaler__with_mean', 'scaler__with_std', 'knn__algorithm', 'knn__leaf_size', 'knn__metric', 'knn__metric_params', 'knn__n_jobs', 'knn__n_neighbors', 'knn__p', 'knn__weights']) \n",
      "\n",
      "dict_keys(['memory', 'steps', 'verbose', 'scaler', 'logreg', 'scaler__copy', 'scaler__with_mean', 'scaler__with_std', 'logreg__C', 'logreg__class_weight', 'logreg__dual', 'logreg__fit_intercept', 'logreg__intercept_scaling', 'logreg__l1_ratio', 'logreg__max_iter', 'logreg__multi_class', 'logreg__n_jobs', 'logreg__penalty', 'logreg__random_state', 'logreg__solver', 'logreg__tol', 'logreg__verbose', 'logreg__warm_start'])\n"
     ]
    }
   ],
   "source": [
    "print(pipe_knn.get_params().keys(),'\\n')\n",
    "print(pipe_logreg.get_params().keys())"
   ]
  },
  {
   "cell_type": "code",
   "execution_count": 7,
   "id": "78b495be",
   "metadata": {},
   "outputs": [],
   "source": [
    "# Escolha dos parametros de GridSearchCV para o KNN\n",
    "param_gscv_knn = {\n",
    "                    'knn__n_neighbors':list(range(1,8,2)) # Escolha do K\n",
    "                 } \n",
    "\n",
    "# Escolha dos parametros de GridSearchCV para o LogisticRegressor\n",
    "param_gscv_logreg = {\n",
    "                      'logreg__C': [0.9,1.0,1.1,1.2,1.3], # Escolha do fator de regulaziração para evitar overfiting\n",
    "                      'logreg__class_weight': ['balanced',None], # Escolha da estratégia de balanceamento dos presos das classes\n",
    "                      'logreg__max_iter': [1000] # Máximo de iterações\n",
    "                    }"
   ]
  },
  {
   "cell_type": "code",
   "execution_count": 8,
   "id": "0424a83e",
   "metadata": {},
   "outputs": [],
   "source": [
    "# O GridSearchCV foi ajustado no scoring para \"balanced_accuracy\",\n",
    "# a fim de buscar melhores hiperparametros para balanceamento das classes.\n",
    "model_knn = GridSearchCV(pipe_knn,param_grid=param_gscv_knn,cv=5,scoring='balanced_accuracy',\n",
    "                     refit='balanced_accuracy',return_train_score=True,n_jobs=5)\n",
    "\n",
    "model_logreg = GridSearchCV(pipe_logreg,param_grid=param_gscv_logreg,cv=5,scoring='balanced_accuracy',\n",
    "                     refit='balanced_accuracy',return_train_score=True,n_jobs=5)"
   ]
  },
  {
   "cell_type": "code",
   "execution_count": 9,
   "id": "4eb256d2",
   "metadata": {},
   "outputs": [],
   "source": [
    "X = df.iloc[:,:-1]\n",
    "y = df.iloc[:,-1]\n",
    "splits = []\n",
    "\n",
    "## Loop com 10 execuções em diferentes splits\n",
    "for i in np.random.randint(1,1000,size=10):\n",
    "    rand_st = i\n",
    "\n",
    "    X_train, X_test, y_train, y_test = train_test_split(\n",
    "        X, y, test_size=0.33, random_state=rand_st) # Deixa 33% dos dados para o teste final do classificador\n",
    "\n",
    "    splits.append([i,X_train, X_test, y_train, y_test])"
   ]
  },
  {
   "cell_type": "code",
   "execution_count": 10,
   "id": "81c79c7c",
   "metadata": {},
   "outputs": [
    {
     "name": "stderr",
     "output_type": "stream",
     "text": [
      "100%|█████████████████████████████████████████████████████████████████████████████████| 10/10 [21:41<00:00, 130.10s/it]"
     ]
    },
    {
     "name": "stdout",
     "output_type": "stream",
     "text": [
      "Wall time: 21min 41s\n"
     ]
    },
    {
     "name": "stderr",
     "output_type": "stream",
     "text": [
      "\n"
     ]
    }
   ],
   "source": [
    "%%time\n",
    "results = []\n",
    "for split in tqdm(splits):\n",
    "    rand_st = split[0]\n",
    "    X_train, X_test, y_train, y_test = split[1:]\n",
    "    gscv_knn_results = cross_validate(model_knn,X_train,y_train,cv=StratifiedKFold(5,shuffle=True, random_state=rand_st),\n",
    "                             return_train_score=True,return_estimator=True,scoring='balanced_accuracy')\n",
    "\n",
    "    gscv_logreg_results = cross_validate(model_logreg,X_train,y_train,cv=StratifiedKFold(5,shuffle=True, random_state=rand_st),\n",
    "                             return_train_score=True,return_estimator=True,scoring='balanced_accuracy')\n",
    "    \n",
    "    best_knn = gscv_knn_results['estimator'][np.argmax(gscv_knn_results['test_score'])].best_estimator_\n",
    "    best_logreg = gscv_logreg_results['estimator'][np.argmax(gscv_logreg_results['test_score'])].best_estimator_\n",
    "    \n",
    "    y_pred_knn = best_knn.predict(X_test)\n",
    "    y_pred_logreg = best_logreg.predict(X_test)\n",
    "    \n",
    "    acc_bal_knn,acc_knn = balanced_accuracy_score(y_test,y_pred_knn), accuracy_score(y_test,y_pred_knn)\n",
    "    acc_bal_logreg,acc_logreg = balanced_accuracy_score(y_test,y_pred_logreg), accuracy_score(y_test,y_pred_logreg)\n",
    "    \n",
    "    \n",
    "    results.append([acc_bal_knn,acc_knn,acc_bal_logreg,acc_logreg,\n",
    "                    rand_st,split[1:],gscv_knn_results,gscv_logreg_results,best_knn,best_logreg])"
   ]
  },
  {
   "cell_type": "code",
   "execution_count": 11,
   "id": "6699aafa",
   "metadata": {},
   "outputs": [
    {
     "data": {
      "text/html": [
       "<div>\n",
       "<style scoped>\n",
       "    .dataframe tbody tr th:only-of-type {\n",
       "        vertical-align: middle;\n",
       "    }\n",
       "\n",
       "    .dataframe tbody tr th {\n",
       "        vertical-align: top;\n",
       "    }\n",
       "\n",
       "    .dataframe thead th {\n",
       "        text-align: right;\n",
       "    }\n",
       "</style>\n",
       "<table border=\"1\" class=\"dataframe\">\n",
       "  <thead>\n",
       "    <tr style=\"text-align: right;\">\n",
       "      <th></th>\n",
       "      <th>count</th>\n",
       "      <th>mean</th>\n",
       "      <th>std</th>\n",
       "      <th>min</th>\n",
       "      <th>25%</th>\n",
       "      <th>50%</th>\n",
       "      <th>75%</th>\n",
       "      <th>max</th>\n",
       "    </tr>\n",
       "  </thead>\n",
       "  <tbody>\n",
       "    <tr>\n",
       "      <th>randon_state</th>\n",
       "      <td>10.0</td>\n",
       "      <td>711.500000</td>\n",
       "      <td>96.878217</td>\n",
       "      <td>553.000000</td>\n",
       "      <td>661.500000</td>\n",
       "      <td>708.000000</td>\n",
       "      <td>771.000000</td>\n",
       "      <td>892.000000</td>\n",
       "    </tr>\n",
       "    <tr>\n",
       "      <th>final_test_balanced_accuracy_knn</th>\n",
       "      <td>10.0</td>\n",
       "      <td>0.860094</td>\n",
       "      <td>0.003430</td>\n",
       "      <td>0.853701</td>\n",
       "      <td>0.858180</td>\n",
       "      <td>0.860070</td>\n",
       "      <td>0.862200</td>\n",
       "      <td>0.864620</td>\n",
       "    </tr>\n",
       "    <tr>\n",
       "      <th>final_test_accuracy_knn</th>\n",
       "      <td>10.0</td>\n",
       "      <td>0.896743</td>\n",
       "      <td>0.003263</td>\n",
       "      <td>0.893116</td>\n",
       "      <td>0.893671</td>\n",
       "      <td>0.896743</td>\n",
       "      <td>0.899112</td>\n",
       "      <td>0.902147</td>\n",
       "    </tr>\n",
       "    <tr>\n",
       "      <th>mean_valid_balanced_accuracy_knn</th>\n",
       "      <td>10.0</td>\n",
       "      <td>0.859732</td>\n",
       "      <td>0.003206</td>\n",
       "      <td>0.857052</td>\n",
       "      <td>0.857456</td>\n",
       "      <td>0.858194</td>\n",
       "      <td>0.861506</td>\n",
       "      <td>0.866948</td>\n",
       "    </tr>\n",
       "    <tr>\n",
       "      <th>mean_train_balanced_accuracy_knn</th>\n",
       "      <td>10.0</td>\n",
       "      <td>0.911081</td>\n",
       "      <td>0.005744</td>\n",
       "      <td>0.898489</td>\n",
       "      <td>0.908039</td>\n",
       "      <td>0.911819</td>\n",
       "      <td>0.915676</td>\n",
       "      <td>0.917225</td>\n",
       "    </tr>\n",
       "    <tr>\n",
       "      <th>final_test_balanced_accuracy_logreg</th>\n",
       "      <td>10.0</td>\n",
       "      <td>0.875027</td>\n",
       "      <td>0.003741</td>\n",
       "      <td>0.868695</td>\n",
       "      <td>0.872077</td>\n",
       "      <td>0.876092</td>\n",
       "      <td>0.877541</td>\n",
       "      <td>0.880441</td>\n",
       "    </tr>\n",
       "    <tr>\n",
       "      <th>final_test_accuracy_logreg</th>\n",
       "      <td>10.0</td>\n",
       "      <td>0.877084</td>\n",
       "      <td>0.004534</td>\n",
       "      <td>0.870466</td>\n",
       "      <td>0.873760</td>\n",
       "      <td>0.876832</td>\n",
       "      <td>0.878942</td>\n",
       "      <td>0.885418</td>\n",
       "    </tr>\n",
       "    <tr>\n",
       "      <th>mean_valid_balanced_accuracy_logreg</th>\n",
       "      <td>10.0</td>\n",
       "      <td>0.871546</td>\n",
       "      <td>0.003187</td>\n",
       "      <td>0.866580</td>\n",
       "      <td>0.869754</td>\n",
       "      <td>0.871432</td>\n",
       "      <td>0.873332</td>\n",
       "      <td>0.877909</td>\n",
       "    </tr>\n",
       "    <tr>\n",
       "      <th>mean_train_balanced_accuracy_logreg</th>\n",
       "      <td>10.0</td>\n",
       "      <td>0.876580</td>\n",
       "      <td>0.003218</td>\n",
       "      <td>0.872020</td>\n",
       "      <td>0.875372</td>\n",
       "      <td>0.876319</td>\n",
       "      <td>0.877519</td>\n",
       "      <td>0.882785</td>\n",
       "    </tr>\n",
       "  </tbody>\n",
       "</table>\n",
       "</div>"
      ],
      "text/plain": [
       "                                     count        mean        std         min  \\\n",
       "randon_state                          10.0  711.500000  96.878217  553.000000   \n",
       "final_test_balanced_accuracy_knn      10.0    0.860094   0.003430    0.853701   \n",
       "final_test_accuracy_knn               10.0    0.896743   0.003263    0.893116   \n",
       "mean_valid_balanced_accuracy_knn      10.0    0.859732   0.003206    0.857052   \n",
       "mean_train_balanced_accuracy_knn      10.0    0.911081   0.005744    0.898489   \n",
       "final_test_balanced_accuracy_logreg   10.0    0.875027   0.003741    0.868695   \n",
       "final_test_accuracy_logreg            10.0    0.877084   0.004534    0.870466   \n",
       "mean_valid_balanced_accuracy_logreg   10.0    0.871546   0.003187    0.866580   \n",
       "mean_train_balanced_accuracy_logreg   10.0    0.876580   0.003218    0.872020   \n",
       "\n",
       "                                            25%         50%         75%  \\\n",
       "randon_state                         661.500000  708.000000  771.000000   \n",
       "final_test_balanced_accuracy_knn       0.858180    0.860070    0.862200   \n",
       "final_test_accuracy_knn                0.893671    0.896743    0.899112   \n",
       "mean_valid_balanced_accuracy_knn       0.857456    0.858194    0.861506   \n",
       "mean_train_balanced_accuracy_knn       0.908039    0.911819    0.915676   \n",
       "final_test_balanced_accuracy_logreg    0.872077    0.876092    0.877541   \n",
       "final_test_accuracy_logreg             0.873760    0.876832    0.878942   \n",
       "mean_valid_balanced_accuracy_logreg    0.869754    0.871432    0.873332   \n",
       "mean_train_balanced_accuracy_logreg    0.875372    0.876319    0.877519   \n",
       "\n",
       "                                            max  \n",
       "randon_state                         892.000000  \n",
       "final_test_balanced_accuracy_knn       0.864620  \n",
       "final_test_accuracy_knn                0.902147  \n",
       "mean_valid_balanced_accuracy_knn       0.866948  \n",
       "mean_train_balanced_accuracy_knn       0.917225  \n",
       "final_test_balanced_accuracy_logreg    0.880441  \n",
       "final_test_accuracy_logreg             0.885418  \n",
       "mean_valid_balanced_accuracy_logreg    0.877909  \n",
       "mean_train_balanced_accuracy_logreg    0.882785  "
      ]
     },
     "execution_count": 11,
     "metadata": {},
     "output_type": "execute_result"
    }
   ],
   "source": [
    "df_results_exp1 = []\n",
    "for i in results:\n",
    "    df_results_exp1.append([i[4],i[0],i[1],np.mean(i[6]['test_score']),np.mean(i[6]['train_score']),\n",
    "                                 i[2],i[3],np.mean(i[7]['test_score']),np.mean(i[7]['train_score'])])\n",
    "\n",
    "df_results_exp1 = pd.DataFrame(df_results_exp1,columns=['randon_state',\n",
    "                                 'final_test_balanced_accuracy_knn','final_test_accuracy_knn',\n",
    "                                 'mean_valid_balanced_accuracy_knn','mean_train_balanced_accuracy_knn',\n",
    "                                 'final_test_balanced_accuracy_logreg','final_test_accuracy_logreg',\n",
    "                                 'mean_valid_balanced_accuracy_logreg','mean_train_balanced_accuracy_logreg'\n",
    "                                ])\n",
    "\n",
    "df_results_exp1.describe().T"
   ]
  },
  {
   "cell_type": "markdown",
   "id": "283e4132",
   "metadata": {},
   "source": [
    "### Exemplo de resultado do ultimo pipeline treinado"
   ]
  },
  {
   "cell_type": "code",
   "execution_count": 12,
   "id": "10ed1db8",
   "metadata": {},
   "outputs": [
    {
     "data": {
      "text/plain": [
       "Pipeline(steps=[('scaler', StandardScaler()),\n",
       "                ('knn', KNeighborsClassifier(n_neighbors=3))])"
      ]
     },
     "execution_count": 12,
     "metadata": {},
     "output_type": "execute_result"
    }
   ],
   "source": [
    "model = results[-1][8]\n",
    "results[-1][8]"
   ]
  },
  {
   "cell_type": "code",
   "execution_count": 13,
   "id": "61820c05",
   "metadata": {},
   "outputs": [],
   "source": [
    "y_pred = model.predict(X_test)"
   ]
  },
  {
   "cell_type": "code",
   "execution_count": 14,
   "id": "ca0824d4",
   "metadata": {},
   "outputs": [
    {
     "data": {
      "text/plain": [
       "(0.8594063216348552, 0.8981495188749075)"
      ]
     },
     "execution_count": 14,
     "metadata": {},
     "output_type": "execute_result"
    }
   ],
   "source": [
    "balanced_accuracy_score(y_test,y_pred), accuracy_score(y_test,y_pred)"
   ]
  },
  {
   "cell_type": "code",
   "execution_count": 15,
   "id": "d2d62928",
   "metadata": {},
   "outputs": [
    {
     "data": {
      "text/plain": [
       "<sklearn.metrics._plot.confusion_matrix.ConfusionMatrixDisplay at 0x2160d9f8ac0>"
      ]
     },
     "execution_count": 15,
     "metadata": {},
     "output_type": "execute_result"
    },
    {
     "data": {
      "image/png": "[encoded data removed]",
      "text/plain": [
       "<Figure size 432x288 with 2 Axes>"
      ]
     },
     "metadata": {
      "needs_background": "light"
     },
     "output_type": "display_data"
    }
   ],
   "source": [
    "ConfusionMatrixDisplay(confusion_matrix(y_test,y_pred)).plot()"
   ]
  },
  {
   "cell_type": "code",
   "execution_count": 16,
   "id": "1206c370",
   "metadata": {},
   "outputs": [
    {
     "data": {
      "text/plain": [
       "Pipeline(steps=[('scaler', StandardScaler()),\n",
       "                ('logreg',\n",
       "                 LogisticRegression(C=1.2, class_weight='balanced',\n",
       "                                    max_iter=1000))])"
      ]
     },
     "execution_count": 16,
     "metadata": {},
     "output_type": "execute_result"
    }
   ],
   "source": [
    "model = results[-1][9]\n",
    "results[-1][9]"
   ]
  },
  {
   "cell_type": "code",
   "execution_count": 17,
   "id": "8e272dec",
   "metadata": {},
   "outputs": [],
   "source": [
    "y_pred = model.predict(X_test)"
   ]
  },
  {
   "cell_type": "code",
   "execution_count": 18,
   "id": "4df9300f",
   "metadata": {},
   "outputs": [
    {
     "data": {
      "text/plain": [
       "(0.8782172857188888, 0.8827535159141376)"
      ]
     },
     "execution_count": 18,
     "metadata": {},
     "output_type": "execute_result"
    }
   ],
   "source": [
    "balanced_accuracy_score(y_test,y_pred), accuracy_score(y_test,y_pred)"
   ]
  },
  {
   "cell_type": "code",
   "execution_count": 19,
   "id": "91fbec9d",
   "metadata": {},
   "outputs": [
    {
     "data": {
      "text/plain": [
       "<sklearn.metrics._plot.confusion_matrix.ConfusionMatrixDisplay at 0x216383e2a00>"
      ]
     },
     "execution_count": 19,
     "metadata": {},
     "output_type": "execute_result"
    },
    {
     "data": {
      "image/png": "[encoded data removed]",
      "text/plain": [
       "<Figure size 432x288 with 2 Axes>"
      ]
     },
     "metadata": {
      "needs_background": "light"
     },
     "output_type": "display_data"
    }
   ],
   "source": [
    "ConfusionMatrixDisplay(confusion_matrix(y_test,y_pred)).plot()"
   ]
  },
  {
   "cell_type": "code",
   "execution_count": 20,
   "id": "b7527e38",
   "metadata": {},
   "outputs": [
    {
     "data": {
      "image/png": "[encoded data removed]",
      "text/plain": [
       "<Figure size 1152x432 with 1 Axes>"
      ]
     },
     "metadata": {
      "needs_background": "light"
     },
     "output_type": "display_data"
    }
   ],
   "source": [
    "fig, axes = plt.subplots(figsize=(16,6))\n",
    "sns.violinplot(data=df_results_exp1.iloc[:,1:], palette=\"Set2\", split=True,  ax=axes)\n",
    "\n",
    "axes.yaxis.grid(True)\n",
    "void = plt.xticks(rotation=-45,ha=\"left\")"
   ]
  },
  {
   "cell_type": "markdown",
   "id": "fcb88b90",
   "metadata": {},
   "source": [
    "__________________________________________________________________________________\n",
    "# Segunda Estratégia - Fazer o pipeline com o GridSearchCV  dentro do pipeline e com StandardScaler() para classificadores KNN e LogisticRegressor\n",
    "\n",
    "### ***Segundo videoaulas, esta abordagem possui um viés de erro, pois o StandardScaler() irá treinar com todas as amostras de treino e validação do split antes da entrada no GridSearchCV(), gerando um viés no pipeline e um possível resultado mascarado que pode levar a resultados inconsistentes no teste final se os dados divergirem em média e desvio padrão significativamente das amostras de treino e validação***\n",
    "__________________________________________________________________________________"
   ]
  },
  {
   "cell_type": "code",
   "execution_count": 21,
   "id": "2519ada0",
   "metadata": {},
   "outputs": [
    {
     "name": "stdout",
     "output_type": "stream",
     "text": [
      "dict_keys(['algorithm', 'leaf_size', 'metric', 'metric_params', 'n_jobs', 'n_neighbors', 'p', 'weights']) \n",
      "\n",
      "dict_keys(['C', 'class_weight', 'dual', 'fit_intercept', 'intercept_scaling', 'l1_ratio', 'max_iter', 'multi_class', 'n_jobs', 'penalty', 'random_state', 'solver', 'tol', 'verbose', 'warm_start'])\n"
     ]
    }
   ],
   "source": [
    "print(KNeighborsClassifier().get_params().keys(),'\\n')\n",
    "print(LogisticRegression().get_params().keys())"
   ]
  },
  {
   "cell_type": "code",
   "execution_count": 22,
   "id": "bd3d32df",
   "metadata": {},
   "outputs": [],
   "source": [
    "# Escolha dos parametros de GridSearchCV para o KNN\n",
    "param_gscv_knn = {\n",
    "                    'n_neighbors':list(range(1,8,2)) # Escolha do K\n",
    "                 } \n",
    "\n",
    "# Escolha dos parametros de GridSearchCV para o LogisticRegressor\n",
    "param_gscv_logreg = {\n",
    "                      'C': [0.9,1.0,1.1,1.2,1.3], # Escolha do fator de regulaziração para evitar overfiting\n",
    "                      'class_weight': ['balanced',None], # Escolha da estratégia de balanceamento dos presos das classes\n",
    "                      'max_iter': [1000] # Máximo de iterações\n",
    "                    }"
   ]
  },
  {
   "cell_type": "code",
   "execution_count": 23,
   "id": "deb37a7a",
   "metadata": {},
   "outputs": [],
   "source": [
    "# Definição do pipeline KNN\n",
    "pipe_knn = Pipeline([\n",
    "                    ('scaler', StandardScaler()),\n",
    "                    # O GridSearchCV foi ajustado no scoring para \"balanced_accuracy\",\n",
    "                    # a fim de buscar melhores hiperparametros para balanceamento das classes.\n",
    "                    ('knn',GridSearchCV(KNeighborsClassifier(),param_grid=param_gscv_knn,cv=5,scoring='balanced_accuracy',\n",
    "                                    refit='balanced_accuracy',return_train_score=True,n_jobs=5))\n",
    "                ])\n",
    "\n",
    "# Definição do pipeline LogisticRegressor\n",
    "pipe_logreg = Pipeline([\n",
    "                    ('scaler', StandardScaler()),\n",
    "                    # O GridSearchCV foi ajustado no scoring para \"balanced_accuracy\",\n",
    "                    # a fim de buscar melhores hiperparametros para balanceamento das classes.\n",
    "                    ('logreg', GridSearchCV(LogisticRegression(),param_grid=param_gscv_logreg,cv=5,scoring='balanced_accuracy',\n",
    "                                    refit='balanced_accuracy',return_train_score=True,n_jobs=5))\n",
    "                ])"
   ]
  },
  {
   "cell_type": "code",
   "execution_count": 24,
   "id": "8e6e69c0",
   "metadata": {},
   "outputs": [],
   "source": [
    "model_knn = pipe_knn\n",
    "\n",
    "model_logreg = pipe_logreg"
   ]
  },
  {
   "cell_type": "code",
   "execution_count": 25,
   "id": "cf631cb9",
   "metadata": {},
   "outputs": [],
   "source": [
    "X = df.iloc[:,:-1]\n",
    "y = df.iloc[:,-1]\n",
    "splits = []\n",
    "\n",
    "## Loop com 10 execuções em diferentes splits\n",
    "for i in np.random.randint(1,1000,size=10):\n",
    "    rand_st = i\n",
    "\n",
    "    X_train, X_test, y_train, y_test = train_test_split(\n",
    "        X, y, test_size=0.33, random_state=rand_st) # Deixa 33% dos dados para o teste final do classificador\n",
    "\n",
    "    splits.append([i,X_train, X_test, y_train, y_test])"
   ]
  },
  {
   "cell_type": "code",
   "execution_count": 26,
   "id": "1b7af2d9",
   "metadata": {},
   "outputs": [
    {
     "name": "stderr",
     "output_type": "stream",
     "text": [
      "100%|█████████████████████████████████████████████████████████████████████████████████| 10/10 [22:29<00:00, 135.00s/it]"
     ]
    },
    {
     "name": "stdout",
     "output_type": "stream",
     "text": [
      "Wall time: 22min 30s\n"
     ]
    },
    {
     "name": "stderr",
     "output_type": "stream",
     "text": [
      "\n"
     ]
    }
   ],
   "source": [
    "%%time\n",
    "results = []\n",
    "for split in tqdm(splits):\n",
    "    rand_st = split[0]\n",
    "    X_train, X_test, y_train, y_test = split[1:]\n",
    "    gscv_knn_results = cross_validate(model_knn,X_train,y_train,cv=StratifiedKFold(5,shuffle=True, random_state=rand_st),\n",
    "                             return_train_score=True,return_estimator=True,scoring='balanced_accuracy')\n",
    "\n",
    "    gscv_logreg_results = cross_validate(model_logreg,X_train,y_train,cv=StratifiedKFold(5,shuffle=True, random_state=rand_st),\n",
    "                             return_train_score=True,return_estimator=True,scoring='balanced_accuracy')\n",
    "    \n",
    "    best_knn = gscv_knn_results['estimator'][np.argmax(gscv_knn_results['test_score'])]#.best_estimator_\n",
    "    best_logreg = gscv_logreg_results['estimator'][np.argmax(gscv_logreg_results['test_score'])]#.best_estimator_\n",
    "    \n",
    "    y_pred_knn = best_knn.predict(X_test)\n",
    "    y_pred_logreg = best_logreg.predict(X_test)\n",
    "    \n",
    "    acc_bal_knn,acc_knn = balanced_accuracy_score(y_test,y_pred_knn), accuracy_score(y_test,y_pred_knn)\n",
    "    acc_bal_logreg,acc_logreg = balanced_accuracy_score(y_test,y_pred_logreg), accuracy_score(y_test,y_pred_logreg)\n",
    "    \n",
    "    \n",
    "    results.append([acc_bal_knn,acc_knn,acc_bal_logreg,acc_logreg,\n",
    "                    rand_st,split[1:],gscv_knn_results,gscv_logreg_results,best_knn,best_logreg])"
   ]
  },
  {
   "cell_type": "code",
   "execution_count": 27,
   "id": "e8ee59a2",
   "metadata": {},
   "outputs": [
    {
     "data": {
      "text/html": [
       "<div>\n",
       "<style scoped>\n",
       "    .dataframe tbody tr th:only-of-type {\n",
       "        vertical-align: middle;\n",
       "    }\n",
       "\n",
       "    .dataframe tbody tr th {\n",
       "        vertical-align: top;\n",
       "    }\n",
       "\n",
       "    .dataframe thead th {\n",
       "        text-align: right;\n",
       "    }\n",
       "</style>\n",
       "<table border=\"1\" class=\"dataframe\">\n",
       "  <thead>\n",
       "    <tr style=\"text-align: right;\">\n",
       "      <th></th>\n",
       "      <th>count</th>\n",
       "      <th>mean</th>\n",
       "      <th>std</th>\n",
       "      <th>min</th>\n",
       "      <th>25%</th>\n",
       "      <th>50%</th>\n",
       "      <th>75%</th>\n",
       "      <th>max</th>\n",
       "    </tr>\n",
       "  </thead>\n",
       "  <tbody>\n",
       "    <tr>\n",
       "      <th>randon_state</th>\n",
       "      <td>10.0</td>\n",
       "      <td>460.600000</td>\n",
       "      <td>335.660278</td>\n",
       "      <td>45.000000</td>\n",
       "      <td>178.750000</td>\n",
       "      <td>426.500000</td>\n",
       "      <td>651.250000</td>\n",
       "      <td>977.000000</td>\n",
       "    </tr>\n",
       "    <tr>\n",
       "      <th>final_test_balanced_accuracy_knn</th>\n",
       "      <td>10.0</td>\n",
       "      <td>0.856986</td>\n",
       "      <td>0.007504</td>\n",
       "      <td>0.842033</td>\n",
       "      <td>0.853912</td>\n",
       "      <td>0.858562</td>\n",
       "      <td>0.862825</td>\n",
       "      <td>0.864334</td>\n",
       "    </tr>\n",
       "    <tr>\n",
       "      <th>final_test_accuracy_knn</th>\n",
       "      <td>10.0</td>\n",
       "      <td>0.893856</td>\n",
       "      <td>0.003974</td>\n",
       "      <td>0.887639</td>\n",
       "      <td>0.892191</td>\n",
       "      <td>0.893264</td>\n",
       "      <td>0.896484</td>\n",
       "      <td>0.900074</td>\n",
       "    </tr>\n",
       "    <tr>\n",
       "      <th>mean_valid_balanced_accuracy_knn</th>\n",
       "      <td>10.0</td>\n",
       "      <td>0.861085</td>\n",
       "      <td>0.003963</td>\n",
       "      <td>0.853359</td>\n",
       "      <td>0.860061</td>\n",
       "      <td>0.861353</td>\n",
       "      <td>0.862504</td>\n",
       "      <td>0.868216</td>\n",
       "    </tr>\n",
       "    <tr>\n",
       "      <th>mean_train_balanced_accuracy_knn</th>\n",
       "      <td>10.0</td>\n",
       "      <td>0.914221</td>\n",
       "      <td>0.012518</td>\n",
       "      <td>0.903446</td>\n",
       "      <td>0.905347</td>\n",
       "      <td>0.911560</td>\n",
       "      <td>0.915298</td>\n",
       "      <td>0.944970</td>\n",
       "    </tr>\n",
       "    <tr>\n",
       "      <th>final_test_balanced_accuracy_logreg</th>\n",
       "      <td>10.0</td>\n",
       "      <td>0.872157</td>\n",
       "      <td>0.007473</td>\n",
       "      <td>0.859704</td>\n",
       "      <td>0.868611</td>\n",
       "      <td>0.874070</td>\n",
       "      <td>0.875859</td>\n",
       "      <td>0.882275</td>\n",
       "    </tr>\n",
       "    <tr>\n",
       "      <th>final_test_accuracy_logreg</th>\n",
       "      <td>10.0</td>\n",
       "      <td>0.873960</td>\n",
       "      <td>0.006343</td>\n",
       "      <td>0.863805</td>\n",
       "      <td>0.869985</td>\n",
       "      <td>0.874389</td>\n",
       "      <td>0.879867</td>\n",
       "      <td>0.881717</td>\n",
       "    </tr>\n",
       "    <tr>\n",
       "      <th>mean_valid_balanced_accuracy_logreg</th>\n",
       "      <td>10.0</td>\n",
       "      <td>0.873627</td>\n",
       "      <td>0.003770</td>\n",
       "      <td>0.866854</td>\n",
       "      <td>0.871781</td>\n",
       "      <td>0.873785</td>\n",
       "      <td>0.876373</td>\n",
       "      <td>0.879105</td>\n",
       "    </tr>\n",
       "    <tr>\n",
       "      <th>mean_train_balanced_accuracy_logreg</th>\n",
       "      <td>10.0</td>\n",
       "      <td>0.878563</td>\n",
       "      <td>0.004108</td>\n",
       "      <td>0.871388</td>\n",
       "      <td>0.877265</td>\n",
       "      <td>0.878978</td>\n",
       "      <td>0.881586</td>\n",
       "      <td>0.883892</td>\n",
       "    </tr>\n",
       "  </tbody>\n",
       "</table>\n",
       "</div>"
      ],
      "text/plain": [
       "                                     count        mean         std        min  \\\n",
       "randon_state                          10.0  460.600000  335.660278  45.000000   \n",
       "final_test_balanced_accuracy_knn      10.0    0.856986    0.007504   0.842033   \n",
       "final_test_accuracy_knn               10.0    0.893856    0.003974   0.887639   \n",
       "mean_valid_balanced_accuracy_knn      10.0    0.861085    0.003963   0.853359   \n",
       "mean_train_balanced_accuracy_knn      10.0    0.914221    0.012518   0.903446   \n",
       "final_test_balanced_accuracy_logreg   10.0    0.872157    0.007473   0.859704   \n",
       "final_test_accuracy_logreg            10.0    0.873960    0.006343   0.863805   \n",
       "mean_valid_balanced_accuracy_logreg   10.0    0.873627    0.003770   0.866854   \n",
       "mean_train_balanced_accuracy_logreg   10.0    0.878563    0.004108   0.871388   \n",
       "\n",
       "                                            25%         50%         75%  \\\n",
       "randon_state                         178.750000  426.500000  651.250000   \n",
       "final_test_balanced_accuracy_knn       0.853912    0.858562    0.862825   \n",
       "final_test_accuracy_knn                0.892191    0.893264    0.896484   \n",
       "mean_valid_balanced_accuracy_knn       0.860061    0.861353    0.862504   \n",
       "mean_train_balanced_accuracy_knn       0.905347    0.911560    0.915298   \n",
       "final_test_balanced_accuracy_logreg    0.868611    0.874070    0.875859   \n",
       "final_test_accuracy_logreg             0.869985    0.874389    0.879867   \n",
       "mean_valid_balanced_accuracy_logreg    0.871781    0.873785    0.876373   \n",
       "mean_train_balanced_accuracy_logreg    0.877265    0.878978    0.881586   \n",
       "\n",
       "                                            max  \n",
       "randon_state                         977.000000  \n",
       "final_test_balanced_accuracy_knn       0.864334  \n",
       "final_test_accuracy_knn                0.900074  \n",
       "mean_valid_balanced_accuracy_knn       0.868216  \n",
       "mean_train_balanced_accuracy_knn       0.944970  \n",
       "final_test_balanced_accuracy_logreg    0.882275  \n",
       "final_test_accuracy_logreg             0.881717  \n",
       "mean_valid_balanced_accuracy_logreg    0.879105  \n",
       "mean_train_balanced_accuracy_logreg    0.883892  "
      ]
     },
     "execution_count": 27,
     "metadata": {},
     "output_type": "execute_result"
    }
   ],
   "source": [
    "df_results_exp2 = []\n",
    "for i in results:\n",
    "    df_results_exp2.append([i[4],i[0],i[1],np.mean(i[6]['test_score']),np.mean(i[6]['train_score']),\n",
    "                                 i[2],i[3],np.mean(i[7]['test_score']),np.mean(i[7]['train_score'])])\n",
    "\n",
    "df_results_exp2 = pd.DataFrame(df_results_exp2,columns=['randon_state',\n",
    "                                 'final_test_balanced_accuracy_knn','final_test_accuracy_knn',\n",
    "                                 'mean_valid_balanced_accuracy_knn','mean_train_balanced_accuracy_knn',\n",
    "                                 'final_test_balanced_accuracy_logreg','final_test_accuracy_logreg',\n",
    "                                 'mean_valid_balanced_accuracy_logreg','mean_train_balanced_accuracy_logreg'\n",
    "                                ])\n",
    "\n",
    "df_results_exp2.describe().T"
   ]
  },
  {
   "cell_type": "markdown",
   "id": "20904e1f",
   "metadata": {},
   "source": [
    "### Exemplo de resultado do ultimo pipeline treinado"
   ]
  },
  {
   "cell_type": "code",
   "execution_count": 28,
   "id": "7281850b",
   "metadata": {},
   "outputs": [
    {
     "data": {
      "text/plain": [
       "(Pipeline(steps=[('scaler', StandardScaler()),\n",
       "                 ('knn',\n",
       "                  GridSearchCV(cv=5, estimator=KNeighborsClassifier(), n_jobs=5,\n",
       "                               param_grid={'n_neighbors': [1, 3, 5, 7]},\n",
       "                               refit='balanced_accuracy',\n",
       "                               return_train_score=True,\n",
       "                               scoring='balanced_accuracy'))]),\n",
       " KNeighborsClassifier(n_neighbors=3))"
      ]
     },
     "execution_count": 28,
     "metadata": {},
     "output_type": "execute_result"
    }
   ],
   "source": [
    "model = results[-1][8]\n",
    "results[-1][8],results[-1][8].named_steps['knn'].best_estimator_"
   ]
  },
  {
   "cell_type": "code",
   "execution_count": 29,
   "id": "efb79e43",
   "metadata": {},
   "outputs": [],
   "source": [
    "y_pred = model.predict(X_test)"
   ]
  },
  {
   "cell_type": "code",
   "execution_count": 30,
   "id": "ffc35ac9",
   "metadata": {},
   "outputs": [
    {
     "data": {
      "text/plain": [
       "(0.8623340621145869, 0.8932642487046633)"
      ]
     },
     "execution_count": 30,
     "metadata": {},
     "output_type": "execute_result"
    }
   ],
   "source": [
    "balanced_accuracy_score(y_test,y_pred), accuracy_score(y_test,y_pred)"
   ]
  },
  {
   "cell_type": "code",
   "execution_count": 31,
   "id": "eb8a07a7",
   "metadata": {},
   "outputs": [
    {
     "data": {
      "text/plain": [
       "<sklearn.metrics._plot.confusion_matrix.ConfusionMatrixDisplay at 0x2160aa40b50>"
      ]
     },
     "execution_count": 31,
     "metadata": {},
     "output_type": "execute_result"
    },
    {
     "data": {
      "image/png": "[encoded data removed]",
      "text/plain": [
       "<Figure size 432x288 with 2 Axes>"
      ]
     },
     "metadata": {
      "needs_background": "light"
     },
     "output_type": "display_data"
    }
   ],
   "source": [
    "ConfusionMatrixDisplay(confusion_matrix(y_test,y_pred)).plot()"
   ]
  },
  {
   "cell_type": "code",
   "execution_count": 32,
   "id": "040470e7",
   "metadata": {},
   "outputs": [
    {
     "data": {
      "text/plain": [
       "(Pipeline(steps=[('scaler', StandardScaler()),\n",
       "                 ('logreg',\n",
       "                  GridSearchCV(cv=5, estimator=LogisticRegression(), n_jobs=5,\n",
       "                               param_grid={'C': [0.9, 1.0, 1.1, 1.2, 1.3],\n",
       "                                           'class_weight': ['balanced', None],\n",
       "                                           'max_iter': [1000]},\n",
       "                               refit='balanced_accuracy',\n",
       "                               return_train_score=True,\n",
       "                               scoring='balanced_accuracy'))]),\n",
       " LogisticRegression(C=1.1, class_weight='balanced', max_iter=1000))"
      ]
     },
     "execution_count": 32,
     "metadata": {},
     "output_type": "execute_result"
    }
   ],
   "source": [
    "model = results[-1][9]\n",
    "results[-1][9],results[-1][9].named_steps['logreg'].best_estimator_"
   ]
  },
  {
   "cell_type": "code",
   "execution_count": 33,
   "id": "e3e4b36a",
   "metadata": {},
   "outputs": [],
   "source": [
    "y_pred = model.predict(X_test)"
   ]
  },
  {
   "cell_type": "code",
   "execution_count": 34,
   "id": "d316120d",
   "metadata": {},
   "outputs": [
    {
     "data": {
      "text/plain": [
       "(0.874760062787308, 0.8749074759437454)"
      ]
     },
     "execution_count": 34,
     "metadata": {},
     "output_type": "execute_result"
    }
   ],
   "source": [
    "balanced_accuracy_score(y_test,y_pred), accuracy_score(y_test,y_pred)"
   ]
  },
  {
   "cell_type": "code",
   "execution_count": 35,
   "id": "21c5ed9e",
   "metadata": {},
   "outputs": [
    {
     "data": {
      "text/plain": [
       "<sklearn.metrics._plot.confusion_matrix.ConfusionMatrixDisplay at 0x2160d90af70>"
      ]
     },
     "execution_count": 35,
     "metadata": {},
     "output_type": "execute_result"
    },
    {
     "data": {
      "image/png": "[encoded data removed]",
      "text/plain": [
       "<Figure size 432x288 with 2 Axes>"
      ]
     },
     "metadata": {
      "needs_background": "light"
     },
     "output_type": "display_data"
    }
   ],
   "source": [
    "ConfusionMatrixDisplay(confusion_matrix(y_test,y_pred)).plot()"
   ]
  },
  {
   "cell_type": "code",
   "execution_count": 36,
   "id": "49f34875",
   "metadata": {},
   "outputs": [
    {
     "data": {
      "image/png": "[encoded data removed]",
      "text/plain": [
       "<Figure size 1152x432 with 1 Axes>"
      ]
     },
     "metadata": {
      "needs_background": "light"
     },
     "output_type": "display_data"
    }
   ],
   "source": [
    "fig, axes = plt.subplots(figsize=(16,6))\n",
    "sns.violinplot(data=df_results_exp1.iloc[:,1:], palette=\"Set2\", split=True,  ax=axes)\n",
    "\n",
    "axes.yaxis.grid(True)\n",
    "void = plt.xticks(rotation=-45,ha=\"left\")"
   ]
  },
  {
   "cell_type": "markdown",
   "id": "df0b077f",
   "metadata": {},
   "source": [
    "__________________________________________________________________________________\n",
    "# Comparação final entre todas as rodadas de experimentos\n",
    "\n",
    "## EXPERIMENTO 1 ==> GridSearchCV do pipeline (StandardScaler + Classificadores)\n",
    "## EXPERIMENTO 2 ==> Pipeline com (StandardScaler + GridSearchCV)\n",
    "__________________________________________________________________________________"
   ]
  },
  {
   "cell_type": "code",
   "execution_count": 37,
   "id": "ef310a7a",
   "metadata": {},
   "outputs": [
    {
     "data": {
      "text/html": [
       "<div>\n",
       "<style scoped>\n",
       "    .dataframe tbody tr th:only-of-type {\n",
       "        vertical-align: middle;\n",
       "    }\n",
       "\n",
       "    .dataframe tbody tr th {\n",
       "        vertical-align: top;\n",
       "    }\n",
       "\n",
       "    .dataframe thead th {\n",
       "        text-align: right;\n",
       "    }\n",
       "</style>\n",
       "<table border=\"1\" class=\"dataframe\">\n",
       "  <thead>\n",
       "    <tr style=\"text-align: right;\">\n",
       "      <th></th>\n",
       "      <th>count</th>\n",
       "      <th>mean</th>\n",
       "      <th>std</th>\n",
       "      <th>min</th>\n",
       "      <th>25%</th>\n",
       "      <th>50%</th>\n",
       "      <th>75%</th>\n",
       "      <th>max</th>\n",
       "    </tr>\n",
       "  </thead>\n",
       "  <tbody>\n",
       "    <tr>\n",
       "      <th>Exp1_KNN_balanced_acc_test_final</th>\n",
       "      <td>10.0</td>\n",
       "      <td>0.860094</td>\n",
       "      <td>0.003430</td>\n",
       "      <td>0.853701</td>\n",
       "      <td>0.858180</td>\n",
       "      <td>0.860070</td>\n",
       "      <td>0.862200</td>\n",
       "      <td>0.864620</td>\n",
       "    </tr>\n",
       "    <tr>\n",
       "      <th>Exp1_LogReg_balanced_acc_test_final</th>\n",
       "      <td>10.0</td>\n",
       "      <td>0.875027</td>\n",
       "      <td>0.003741</td>\n",
       "      <td>0.868695</td>\n",
       "      <td>0.872077</td>\n",
       "      <td>0.876092</td>\n",
       "      <td>0.877541</td>\n",
       "      <td>0.880441</td>\n",
       "    </tr>\n",
       "    <tr>\n",
       "      <th>Exp1_KNN_acc_test_final</th>\n",
       "      <td>10.0</td>\n",
       "      <td>0.896743</td>\n",
       "      <td>0.003263</td>\n",
       "      <td>0.893116</td>\n",
       "      <td>0.893671</td>\n",
       "      <td>0.896743</td>\n",
       "      <td>0.899112</td>\n",
       "      <td>0.902147</td>\n",
       "    </tr>\n",
       "    <tr>\n",
       "      <th>Exp1_LogReg_acc_test_final</th>\n",
       "      <td>10.0</td>\n",
       "      <td>0.877084</td>\n",
       "      <td>0.004534</td>\n",
       "      <td>0.870466</td>\n",
       "      <td>0.873760</td>\n",
       "      <td>0.876832</td>\n",
       "      <td>0.878942</td>\n",
       "      <td>0.885418</td>\n",
       "    </tr>\n",
       "    <tr>\n",
       "      <th>Exp2_KNN_balanced_acc_test_final</th>\n",
       "      <td>10.0</td>\n",
       "      <td>0.856986</td>\n",
       "      <td>0.007504</td>\n",
       "      <td>0.842033</td>\n",
       "      <td>0.853912</td>\n",
       "      <td>0.858562</td>\n",
       "      <td>0.862825</td>\n",
       "      <td>0.864334</td>\n",
       "    </tr>\n",
       "    <tr>\n",
       "      <th>Exp2_LogReg_balanced_acc_test_final</th>\n",
       "      <td>10.0</td>\n",
       "      <td>0.872157</td>\n",
       "      <td>0.007473</td>\n",
       "      <td>0.859704</td>\n",
       "      <td>0.868611</td>\n",
       "      <td>0.874070</td>\n",
       "      <td>0.875859</td>\n",
       "      <td>0.882275</td>\n",
       "    </tr>\n",
       "    <tr>\n",
       "      <th>Exp2_KNN_acc_test_final</th>\n",
       "      <td>10.0</td>\n",
       "      <td>0.893856</td>\n",
       "      <td>0.003974</td>\n",
       "      <td>0.887639</td>\n",
       "      <td>0.892191</td>\n",
       "      <td>0.893264</td>\n",
       "      <td>0.896484</td>\n",
       "      <td>0.900074</td>\n",
       "    </tr>\n",
       "    <tr>\n",
       "      <th>Exp2_LogReg_acc_test_final</th>\n",
       "      <td>10.0</td>\n",
       "      <td>0.873960</td>\n",
       "      <td>0.006343</td>\n",
       "      <td>0.863805</td>\n",
       "      <td>0.869985</td>\n",
       "      <td>0.874389</td>\n",
       "      <td>0.879867</td>\n",
       "      <td>0.881717</td>\n",
       "    </tr>\n",
       "  </tbody>\n",
       "</table>\n",
       "</div>"
      ],
      "text/plain": [
       "                                     count      mean       std       min  \\\n",
       "Exp1_KNN_balanced_acc_test_final      10.0  0.860094  0.003430  0.853701   \n",
       "Exp1_LogReg_balanced_acc_test_final   10.0  0.875027  0.003741  0.868695   \n",
       "Exp1_KNN_acc_test_final               10.0  0.896743  0.003263  0.893116   \n",
       "Exp1_LogReg_acc_test_final            10.0  0.877084  0.004534  0.870466   \n",
       "Exp2_KNN_balanced_acc_test_final      10.0  0.856986  0.007504  0.842033   \n",
       "Exp2_LogReg_balanced_acc_test_final   10.0  0.872157  0.007473  0.859704   \n",
       "Exp2_KNN_acc_test_final               10.0  0.893856  0.003974  0.887639   \n",
       "Exp2_LogReg_acc_test_final            10.0  0.873960  0.006343  0.863805   \n",
       "\n",
       "                                          25%       50%       75%       max  \n",
       "Exp1_KNN_balanced_acc_test_final     0.858180  0.860070  0.862200  0.864620  \n",
       "Exp1_LogReg_balanced_acc_test_final  0.872077  0.876092  0.877541  0.880441  \n",
       "Exp1_KNN_acc_test_final              0.893671  0.896743  0.899112  0.902147  \n",
       "Exp1_LogReg_acc_test_final           0.873760  0.876832  0.878942  0.885418  \n",
       "Exp2_KNN_balanced_acc_test_final     0.853912  0.858562  0.862825  0.864334  \n",
       "Exp2_LogReg_balanced_acc_test_final  0.868611  0.874070  0.875859  0.882275  \n",
       "Exp2_KNN_acc_test_final              0.892191  0.893264  0.896484  0.900074  \n",
       "Exp2_LogReg_acc_test_final           0.869985  0.874389  0.879867  0.881717  "
      ]
     },
     "execution_count": 37,
     "metadata": {},
     "output_type": "execute_result"
    }
   ],
   "source": [
    "df_final = df_results_exp1.iloc[:,np.r_[1,1+4,2,2+4]].copy()\n",
    "df_final = df_final.join(df_results_exp2.iloc[:,np.r_[1,1+4,2,2+4]],rsuffix='_Exp2').copy()\n",
    "df_final.columns= ['Exp1_KNN_balanced_acc_test_final','Exp1_LogReg_balanced_acc_test_final',\n",
    "                   'Exp1_KNN_acc_test_final','Exp1_LogReg_acc_test_final',\n",
    "                   'Exp2_KNN_balanced_acc_test_final','Exp2_LogReg_balanced_acc_test_final'\n",
    "                   ,'Exp2_KNN_acc_test_final','Exp2_LogReg_acc_test_final',\n",
    "                  ]\n",
    "\n",
    "df_final.describe().T"
   ]
  },
  {
   "cell_type": "code",
   "execution_count": 38,
   "id": "18c4ee43",
   "metadata": {},
   "outputs": [
    {
     "data": {
      "image/png": "[encoded data removed]",
      "text/plain": [
       "<Figure size 1152x432 with 1 Axes>"
      ]
     },
     "metadata": {
      "needs_background": "light"
     },
     "output_type": "display_data"
    }
   ],
   "source": [
    "fig, axes = plt.subplots(figsize=(16,6))\n",
    "sns.violinplot(data=df_final, palette=\"Set2\", split=True,  ax=axes)\n",
    "\n",
    "axes.yaxis.grid(True)\n",
    "void = plt.xticks(rotation=-45,ha=\"left\")"
   ]
  },
  {
   "cell_type": "markdown",
   "id": "40333c6e",
   "metadata": {},
   "source": [
    "# CONCLUSÕES:\n",
    "\n",
    "Existe uma nítida diferença na estabilidade dos resultados treino/validação/teste quando o StandardScaler é utilizado dentro do pipeline, mas somente contra os dados de treino (e não de validação) durante o processo do GridSearchCV().\n",
    "\n",
    "Além disso, é possível ver que existe uma diferença entre a métrica de accuracy e balanced_accuracy significativa, q é provocada pelas classes não balanceadas deste dataset. Um otimizador que busque balancear os resultados das classes tem melhores chances de performar neste problema, como pode ser visto na diferença entre o LogisticRegression e KNN, pois o GridSearchCV() atribuiu em sua otimização o parametro de ***class_weight='balanced'*** para obter melhores resultados no LogisticRegression().\n",
    "\n",
    "A métrica definida de desempenho também definirá a escolha do classificador, já que o ***KNN*** possui **melhor** *accuracy* e **pior** *balanced_accuracy* que o ***LogisticRegression*** pelos resultados dos experimentos."
   ]
  },
  {
   "cell_type": "code",
   "execution_count": null,
   "id": "7676622e",
   "metadata": {},
   "outputs": [],
   "source": []
  }
 ],
 "metadata": {
  "kernelspec": {
   "display_name": "Python [conda env:ppcomp] *",
   "language": "python",
   "name": "conda-env-ppcomp-py"
  },
  "language_info": {
   "codemirror_mode": {
    "name": "ipython",
    "version": 3
   },
   "file_extension": ".py",
   "mimetype": "text/x-python",
   "name": "python",
   "nbconvert_exporter": "python",
   "pygments_lexer": "ipython3",
   "version": "3.8.11"
  }
 },
 "nbformat": 4,
 "nbformat_minor": 5
}
