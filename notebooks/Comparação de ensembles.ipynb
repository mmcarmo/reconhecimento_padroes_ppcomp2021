{
 "cells": [
  {
   "cell_type": "code",
   "execution_count": 15,
   "id": "50d18bd6",
   "metadata": {},
   "outputs": [
    {
     "name": "stderr",
     "output_type": "stream",
     "text": [
      "Intel(R) Extension for Scikit-learn* enabled (https://github.com/intel/scikit-learn-intelex)\n"
     ]
    },
    {
     "data": {
      "text/plain": [
       "('3.8.12', '1.20.3', '1.3.3', '1.0.1', '3.4.2', '0.11.2', '0.5.2')"
      ]
     },
     "execution_count": 15,
     "metadata": {},
     "output_type": "execute_result"
    }
   ],
   "source": [
    "import numpy as np\n",
    "import pandas as pd\n",
    "import sklearn\n",
    "import matplotlib\n",
    "import matplotlib.pyplot as plt\n",
    "import seaborn as sns\n",
    "from IPython.display import display\n",
    "import umap\n",
    "from collections import Counter\n",
    "import re\n",
    "import datetime\n",
    "from tqdm import tqdm\n",
    "\n",
    "from sklearnex import patch_sklearn, unpatch_sklearn\n",
    "patch_sklearn()\n",
    "#unpatch_sklearn()\n",
    "\n",
    "from sklearn.tree import DecisionTreeClassifier\n",
    "from sklearn.neighbors import KNeighborsClassifier\n",
    "\n",
    "from sklearn.base import BaseEstimator, ClassifierMixin, TransformerMixin\n",
    "\n",
    "\n",
    "from sklearn.pipeline import Pipeline\n",
    "from sklearn.preprocessing import StandardScaler\n",
    "from sklearn.model_selection import GridSearchCV,RandomizedSearchCV\n",
    "from sklearn.model_selection import cross_validate\n",
    "from sklearn.model_selection import StratifiedKFold,RepeatedStratifiedKFold\n",
    "from sklearn.model_selection import train_test_split\n",
    "\n",
    "from sklearn.metrics import mean_squared_error\n",
    "from sklearn.metrics import accuracy_score\n",
    "from sklearn.metrics import balanced_accuracy_score\n",
    "from sklearn.metrics import confusion_matrix,ConfusionMatrixDisplay\n",
    "\n",
    "from tqdm import tqdm\n",
    "\n",
    "from platform import python_version\n",
    "\n",
    "python_version(), np.__version__, pd.__version__, sklearn.__version__, matplotlib.__version__, sns.__version__, umap.__version__"
   ]
  },
  {
   "cell_type": "markdown",
   "id": "cf7fe29b",
   "metadata": {},
   "source": [
    "# Experimento de classificadores Ensemble\n",
    "\n",
    "## Neste experimento vamos pegar uma fração dos dados de fraud-detection do Kaggle (3000 amostras, ou ~5% da base) para realizar os experimentos ensemble com classificadores fracos (Decision Tree, LogisticRegression, etc.) e realizar um benchmark contra um outro Ensemble mais robusto, como o RandomForest.\n",
    "\n",
    "## O valor pequeno de amostras foi escolhido para cumprir com o requerimento do exercício, de no mínimo 1000 amostras, e também para diminuir o tempo total do experimento pela pesquisa de GridSearch ou RandomSearch."
   ]
  },
  {
   "cell_type": "code",
   "execution_count": 139,
   "id": "882b2dfa",
   "metadata": {},
   "outputs": [
    {
     "data": {
      "text/plain": [
       "<AxesSubplot:>"
      ]
     },
     "execution_count": 139,
     "metadata": {},
     "output_type": "execute_result"
    },
    {
     "data": {
      "image/png": "[encoded data removed]",
      "text/plain": [
       "<Figure size 432x288 with 1 Axes>"
      ]
     },
     "metadata": {
      "needs_background": "light"
     },
     "output_type": "display_data"
    }
   ],
   "source": [
    "# Dataset capturado do desafio https://www.kaggle.com/volodymyrgavrysh/fraud-detection-bank-dataset-20k-records-binary\n",
    "df = pd.read_csv('../data/fraud_detection_bank_dataset.csv',index_col=0)\n",
    "\n",
    "#filtrando para 3000 samples, atendendo ao requisito do enunciado do problema\n",
    "X = df.drop('targets',axis=1).sample(3000,random_state=42) \n",
    "y = df.loc[X.index].targets\n",
    "\n",
    "y.hist()"
   ]
  },
  {
   "cell_type": "code",
   "execution_count": 140,
   "id": "84e0e8e1",
   "metadata": {},
   "outputs": [
    {
     "data": {
      "text/html": [
       "<div>\n",
       "<style scoped>\n",
       "    .dataframe tbody tr th:only-of-type {\n",
       "        vertical-align: middle;\n",
       "    }\n",
       "\n",
       "    .dataframe tbody tr th {\n",
       "        vertical-align: top;\n",
       "    }\n",
       "\n",
       "    .dataframe thead th {\n",
       "        text-align: right;\n",
       "    }\n",
       "</style>\n",
       "<table border=\"1\" class=\"dataframe\">\n",
       "  <thead>\n",
       "    <tr style=\"text-align: right;\">\n",
       "      <th></th>\n",
       "      <th>count</th>\n",
       "      <th>mean</th>\n",
       "      <th>std</th>\n",
       "      <th>min</th>\n",
       "      <th>25%</th>\n",
       "      <th>50%</th>\n",
       "      <th>75%</th>\n",
       "      <th>max</th>\n",
       "    </tr>\n",
       "  </thead>\n",
       "  <tbody>\n",
       "    <tr>\n",
       "      <th>col_0</th>\n",
       "      <td>3000.0</td>\n",
       "      <td>3.921333</td>\n",
       "      <td>43.992108</td>\n",
       "      <td>0.0</td>\n",
       "      <td>0.0</td>\n",
       "      <td>0.0</td>\n",
       "      <td>2.00</td>\n",
       "      <td>2301.0</td>\n",
       "    </tr>\n",
       "    <tr>\n",
       "      <th>col_1</th>\n",
       "      <td>3000.0</td>\n",
       "      <td>299.905000</td>\n",
       "      <td>940.911091</td>\n",
       "      <td>0.0</td>\n",
       "      <td>35.0</td>\n",
       "      <td>90.5</td>\n",
       "      <td>264.25</td>\n",
       "      <td>37808.0</td>\n",
       "    </tr>\n",
       "    <tr>\n",
       "      <th>col_2</th>\n",
       "      <td>3000.0</td>\n",
       "      <td>0.259000</td>\n",
       "      <td>1.320290</td>\n",
       "      <td>0.0</td>\n",
       "      <td>0.0</td>\n",
       "      <td>0.0</td>\n",
       "      <td>0.00</td>\n",
       "      <td>37.0</td>\n",
       "    </tr>\n",
       "    <tr>\n",
       "      <th>col_3</th>\n",
       "      <td>3000.0</td>\n",
       "      <td>2.039333</td>\n",
       "      <td>6.201016</td>\n",
       "      <td>0.0</td>\n",
       "      <td>0.0</td>\n",
       "      <td>1.0</td>\n",
       "      <td>2.00</td>\n",
       "      <td>178.0</td>\n",
       "    </tr>\n",
       "    <tr>\n",
       "      <th>col_4</th>\n",
       "      <td>3000.0</td>\n",
       "      <td>0.095333</td>\n",
       "      <td>0.858579</td>\n",
       "      <td>0.0</td>\n",
       "      <td>0.0</td>\n",
       "      <td>0.0</td>\n",
       "      <td>0.00</td>\n",
       "      <td>26.0</td>\n",
       "    </tr>\n",
       "    <tr>\n",
       "      <th>...</th>\n",
       "      <td>...</td>\n",
       "      <td>...</td>\n",
       "      <td>...</td>\n",
       "      <td>...</td>\n",
       "      <td>...</td>\n",
       "      <td>...</td>\n",
       "      <td>...</td>\n",
       "      <td>...</td>\n",
       "    </tr>\n",
       "    <tr>\n",
       "      <th>col_107</th>\n",
       "      <td>3000.0</td>\n",
       "      <td>0.189667</td>\n",
       "      <td>0.392103</td>\n",
       "      <td>0.0</td>\n",
       "      <td>0.0</td>\n",
       "      <td>0.0</td>\n",
       "      <td>0.00</td>\n",
       "      <td>1.0</td>\n",
       "    </tr>\n",
       "    <tr>\n",
       "      <th>col_108</th>\n",
       "      <td>3000.0</td>\n",
       "      <td>0.000000</td>\n",
       "      <td>0.000000</td>\n",
       "      <td>0.0</td>\n",
       "      <td>0.0</td>\n",
       "      <td>0.0</td>\n",
       "      <td>0.00</td>\n",
       "      <td>0.0</td>\n",
       "    </tr>\n",
       "    <tr>\n",
       "      <th>col_109</th>\n",
       "      <td>3000.0</td>\n",
       "      <td>0.046667</td>\n",
       "      <td>0.210959</td>\n",
       "      <td>0.0</td>\n",
       "      <td>0.0</td>\n",
       "      <td>0.0</td>\n",
       "      <td>0.00</td>\n",
       "      <td>1.0</td>\n",
       "    </tr>\n",
       "    <tr>\n",
       "      <th>col_110</th>\n",
       "      <td>3000.0</td>\n",
       "      <td>0.030333</td>\n",
       "      <td>0.429893</td>\n",
       "      <td>0.0</td>\n",
       "      <td>0.0</td>\n",
       "      <td>0.0</td>\n",
       "      <td>0.00</td>\n",
       "      <td>17.0</td>\n",
       "    </tr>\n",
       "    <tr>\n",
       "      <th>col_111</th>\n",
       "      <td>3000.0</td>\n",
       "      <td>42.005000</td>\n",
       "      <td>60.253635</td>\n",
       "      <td>0.0</td>\n",
       "      <td>5.0</td>\n",
       "      <td>17.0</td>\n",
       "      <td>60.00</td>\n",
       "      <td>728.0</td>\n",
       "    </tr>\n",
       "  </tbody>\n",
       "</table>\n",
       "<p>112 rows × 8 columns</p>\n",
       "</div>"
      ],
      "text/plain": [
       "          count        mean         std  min   25%   50%     75%      max\n",
       "col_0    3000.0    3.921333   43.992108  0.0   0.0   0.0    2.00   2301.0\n",
       "col_1    3000.0  299.905000  940.911091  0.0  35.0  90.5  264.25  37808.0\n",
       "col_2    3000.0    0.259000    1.320290  0.0   0.0   0.0    0.00     37.0\n",
       "col_3    3000.0    2.039333    6.201016  0.0   0.0   1.0    2.00    178.0\n",
       "col_4    3000.0    0.095333    0.858579  0.0   0.0   0.0    0.00     26.0\n",
       "...         ...         ...         ...  ...   ...   ...     ...      ...\n",
       "col_107  3000.0    0.189667    0.392103  0.0   0.0   0.0    0.00      1.0\n",
       "col_108  3000.0    0.000000    0.000000  0.0   0.0   0.0    0.00      0.0\n",
       "col_109  3000.0    0.046667    0.210959  0.0   0.0   0.0    0.00      1.0\n",
       "col_110  3000.0    0.030333    0.429893  0.0   0.0   0.0    0.00     17.0\n",
       "col_111  3000.0   42.005000   60.253635  0.0   5.0  17.0   60.00    728.0\n",
       "\n",
       "[112 rows x 8 columns]"
      ]
     },
     "metadata": {},
     "output_type": "display_data"
    }
   ],
   "source": [
    "display(X.describe().T)"
   ]
  },
  {
   "cell_type": "markdown",
   "id": "c4bc07ae",
   "metadata": {},
   "source": [
    "## Escolha dos classificadores para ensemble\n",
    "\n",
    "Vamos escolher os classificadores da lista de classificadores simples, e utilizarmos o RandomForestClassifier como benchmark"
   ]
  },
  {
   "cell_type": "code",
   "execution_count": 144,
   "id": "eb5184f5",
   "metadata": {},
   "outputs": [],
   "source": [
    "from sklearn.tree import DecisionTreeClassifier\n",
    "from sklearn.linear_model import LogisticRegression\n",
    "from sklearn.neighbors import KNeighborsClassifier\n",
    "from sklearn.naive_bayes import GaussianNB, CategoricalNB\n",
    "from sklearn.svm import SVC\n",
    "from sklearn.ensemble import RandomForestClassifier, VotingClassifier,StackingClassifier"
   ]
  },
  {
   "cell_type": "code",
   "execution_count": 145,
   "id": "71a30bdc",
   "metadata": {},
   "outputs": [
    {
     "name": "stdout",
     "output_type": "stream",
     "text": [
      "Wall time: 8.96 s\n"
     ]
    }
   ],
   "source": [
    "%%time\n",
    "models = [DecisionTreeClassifier(),LogisticRegression(),KNeighborsClassifier(),\n",
    "          GaussianNB(),SVC(),RandomForestClassifier()]\n",
    "results = []\n",
    "for model in models:\n",
    "    pipe = Pipeline([\n",
    "        ('scaler',StandardScaler()),\n",
    "        ('cf',model)\n",
    "    ])\n",
    "    r = cross_validate(pipe,X,y,cv=RepeatedStratifiedKFold(),n_jobs=-1,return_estimator=True)\n",
    "    results.append(pd.DataFrame(r))"
   ]
  },
  {
   "cell_type": "code",
   "execution_count": 146,
   "id": "36910126",
   "metadata": {},
   "outputs": [
    {
     "name": "stdout",
     "output_type": "stream",
     "text": [
      "Pipeline(steps=[('scaler', StandardScaler()), ('cf', DecisionTreeClassifier())]) 0.8836666666666667\n",
      "Pipeline(steps=[('scaler', StandardScaler()), ('cf', LogisticRegression())]) 0.8741333333333334\n",
      "Pipeline(steps=[('scaler', StandardScaler()), ('cf', KNeighborsClassifier())]) 0.8695666666666669\n",
      "Pipeline(steps=[('scaler', StandardScaler()), ('cf', GaussianNB())]) 0.7676\n",
      "Pipeline(steps=[('scaler', StandardScaler()), ('cf', SVC())]) 0.858\n",
      "Pipeline(steps=[('scaler', StandardScaler()), ('cf', RandomForestClassifier())]) 0.9155333333333334\n"
     ]
    }
   ],
   "source": [
    "for res in results:\n",
    "    print(res.estimator[0],res.test_score.mean())"
   ]
  },
  {
   "cell_type": "markdown",
   "id": "4781bc49",
   "metadata": {},
   "source": [
    "### Descartaremos o GaussianNB e SVC pelos menores desempenhos individuais, e levaremos para os ensembles somente os demais para comparativo com o RandomForest"
   ]
  },
  {
   "cell_type": "code",
   "execution_count": 147,
   "id": "ab77980b",
   "metadata": {},
   "outputs": [
    {
     "name": "stdout",
     "output_type": "stream",
     "text": [
      "Wall time: 9.77 s\n"
     ]
    }
   ],
   "source": [
    "%%time\n",
    "models = [RandomForestClassifier(),\n",
    "          VotingClassifier([\n",
    "              ('dt',DecisionTreeClassifier()),\n",
    "              ('lr',LogisticRegression()),\n",
    "              ('knn',KNeighborsClassifier())\n",
    "          ]),\n",
    "          StackingClassifier([\n",
    "              ('dt',DecisionTreeClassifier()),\n",
    "              ('lr',LogisticRegression()),\n",
    "              ('knn',KNeighborsClassifier())\n",
    "          ])\n",
    "         ]\n",
    "results = []\n",
    "for model in models:\n",
    "    pipe = Pipeline([\n",
    "        ('scaler',StandardScaler()),\n",
    "        ('cf',model)\n",
    "    ])\n",
    "    r = cross_validate(pipe,X,y,cv=RepeatedStratifiedKFold(),n_jobs=-1,return_estimator=True)\n",
    "    results.append(pd.DataFrame(r))"
   ]
  },
  {
   "cell_type": "code",
   "execution_count": 148,
   "id": "8a81b322",
   "metadata": {},
   "outputs": [
    {
     "name": "stdout",
     "output_type": "stream",
     "text": [
      "Pipeline(steps=[('scaler', StandardScaler()), ('cf', RandomForestClassifier())]) 0.9152000000000001\n",
      "Pipeline(steps=[('scaler', StandardScaler()),\n",
      "                ('cf',\n",
      "                 VotingClassifier(estimators=[('dt', DecisionTreeClassifier()),\n",
      "                                              ('lr', LogisticRegression()),\n",
      "                                              ('knn',\n",
      "                                               KNeighborsClassifier())]))]) 0.9020666666666667\n",
      "Pipeline(steps=[('scaler', StandardScaler()),\n",
      "                ('cf',\n",
      "                 StackingClassifier(estimators=[('dt',\n",
      "                                                 DecisionTreeClassifier()),\n",
      "                                                ('lr', LogisticRegression()),\n",
      "                                                ('knn',\n",
      "                                                 KNeighborsClassifier())]))]) 0.9078666666666667\n"
     ]
    }
   ],
   "source": [
    "for res in results:\n",
    "    print(res.estimator[0],res.test_score.mean())"
   ]
  },
  {
   "cell_type": "markdown",
   "id": "34201207",
   "metadata": {},
   "source": [
    "### Na primeira rodada de Ensemble já conseguimos melhorar o resultados dos classificadores fracos, tando com Voting quanto com Stacking."
   ]
  },
  {
   "cell_type": "code",
   "execution_count": 189,
   "id": "97196ea1",
   "metadata": {},
   "outputs": [
    {
     "name": "stdout",
     "output_type": "stream",
     "text": [
      "Define n_iter:  108\n"
     ]
    },
    {
     "data": {
      "text/plain": [
       "dict_keys(['memory', 'steps', 'verbose', 'scaler', 'cf', 'scaler__copy', 'scaler__with_mean', 'scaler__with_std', 'cf__bootstrap', 'cf__ccp_alpha', 'cf__class_weight', 'cf__criterion', 'cf__maxBins', 'cf__max_depth', 'cf__max_features', 'cf__max_leaf_nodes', 'cf__max_samples', 'cf__minBinSize', 'cf__min_impurity_decrease', 'cf__min_samples_leaf', 'cf__min_samples_split', 'cf__min_weight_fraction_leaf', 'cf__n_estimators', 'cf__n_jobs', 'cf__oob_score', 'cf__random_state', 'cf__verbose', 'cf__warm_start'])"
      ]
     },
     "execution_count": 189,
     "metadata": {},
     "output_type": "execute_result"
    }
   ],
   "source": [
    "def get_n_iter(gridParam):\n",
    "    n_iter = 1\n",
    "    for key in gridParam:\n",
    "        n_iter *= (len(gridParam[key]))\n",
    "\n",
    "    if n_iter*0.1 > 120: n_iter = (0.1*n_iter)//1\n",
    "    \n",
    "    print('Define n_iter: ',n_iter)\n",
    "    return n_iter\n",
    "\n",
    "models = [RandomForestClassifier(random_state=42),\n",
    "          GradientBoostingClassifier(random_state=42),\n",
    "          VotingClassifier([\n",
    "              ('dt',DecisionTreeClassifier(random_state=42)),\n",
    "              ('lr',LogisticRegression(random_state=42)),\n",
    "              ('knn',KNeighborsClassifier())\n",
    "          ]),\n",
    "          StackingClassifier([\n",
    "              ('dt',DecisionTreeClassifier(random_state=42)),\n",
    "              ('lr',LogisticRegression(random_state=42)),\n",
    "              ('knn',KNeighborsClassifier())\n",
    "          ])\n",
    "         ]\n",
    "\n",
    "gridParam = {\n",
    "    'cf__n_estimators':[100, 150],\n",
    "    'cf__max_depth':[9,13,17],\n",
    "    'cf__min_samples_leaf': [1, 3, 5],\n",
    "    'cf__criterion': ['gini','entropy'],\n",
    "    'cf__class_weight':[\"balanced\", \"balanced_subsample\",None]\n",
    "}\n",
    "\n",
    "pipe = Pipeline([\n",
    "    ('scaler',StandardScaler()),\n",
    "    ('cf', RandomForestClassifier(random_state=42))\n",
    "])\n",
    "\n",
    "\n",
    "model = RandomizedSearchCV(pipe,refit=True,n_jobs=-1,random_state=42,verbose=True,cv=RepeatedStratifiedKFold(n_repeats=3),\n",
    "                          n_iter=get_n_iter(gridParam),param_distributions=gridParam)\n",
    "pipe.get_params().keys()"
   ]
  },
  {
   "cell_type": "code",
   "execution_count": 190,
   "id": "02714698",
   "metadata": {},
   "outputs": [
    {
     "name": "stdout",
     "output_type": "stream",
     "text": [
      "0.9163333333333331\n",
      "Wall time: 1min 30s\n"
     ]
    },
    {
     "data": {
      "text/plain": [
       "{'cf__n_estimators': 150,\n",
       " 'cf__min_samples_leaf': 1,\n",
       " 'cf__max_depth': 17,\n",
       " 'cf__criterion': 'entropy',\n",
       " 'cf__class_weight': None}"
      ]
     },
     "execution_count": 190,
     "metadata": {},
     "output_type": "execute_result"
    }
   ],
   "source": [
    "%%time\n",
    "model.fit(X,y)\n",
    "\n",
    "print(model.best_score_)\n",
    "model.best_params_"
   ]
  },
  {
   "cell_type": "markdown",
   "id": "d3461532",
   "metadata": {},
   "source": [
    "### Mesmo fazendo RandomSearch no RandonForest conseguimos melhorar um pouco o desempenho do classificador."
   ]
  },
  {
   "cell_type": "code",
   "execution_count": 191,
   "id": "4644a91d",
   "metadata": {},
   "outputs": [
    {
     "name": "stdout",
     "output_type": "stream",
     "text": [
      "Define n_iter:  72\n"
     ]
    },
    {
     "data": {
      "text/plain": [
       "dict_keys(['memory', 'steps', 'verbose', 'scaler', 'cf', 'scaler__copy', 'scaler__with_mean', 'scaler__with_std', 'cf__ccp_alpha', 'cf__class_weight', 'cf__criterion', 'cf__max_depth', 'cf__max_features', 'cf__max_leaf_nodes', 'cf__min_impurity_decrease', 'cf__min_samples_leaf', 'cf__min_samples_split', 'cf__min_weight_fraction_leaf', 'cf__random_state', 'cf__splitter'])"
      ]
     },
     "execution_count": 191,
     "metadata": {},
     "output_type": "execute_result"
    }
   ],
   "source": [
    "gridParam = {\n",
    "    'cf__max_depth':[7,9,13],\n",
    "    'cf__max_features': [0.8, 1.0],\n",
    "    'cf__min_samples_leaf': [1,3,5],\n",
    "    'cf__criterion': ['gini','entropy'],\n",
    "    'cf__class_weight':[\"balanced\",None],\n",
    "    #'cf__lr__C': [0.5,1,2],\n",
    "    #'cf__lr__class_weight': [\"balanced\",None],\n",
    "    #'cf__knn__n_neighbors': [3,5,7]\n",
    "}\n",
    "\n",
    "pipe = Pipeline([\n",
    "    ('scaler',StandardScaler()),\n",
    "    ('cf', DecisionTreeClassifier(random_state=42)),\n",
    "])\n",
    "\n",
    "\n",
    "model = RandomizedSearchCV(pipe,refit=True,n_jobs=-1,random_state=42,verbose=True,cv=RepeatedStratifiedKFold(n_repeats=3),\n",
    "                          n_iter=get_n_iter(gridParam),param_distributions=gridParam)\n",
    "pipe.get_params().keys()"
   ]
  },
  {
   "cell_type": "code",
   "execution_count": 192,
   "id": "7830ebe3",
   "metadata": {},
   "outputs": [
    {
     "name": "stdout",
     "output_type": "stream",
     "text": [
      "Fitting 15 folds for each of 72 candidates, totalling 1080 fits\n",
      "BEST SCORE: 0.8997777777777778\n",
      "BEST PARAMS:\n",
      " {'cf__min_samples_leaf': 5, 'cf__max_features': 1.0, 'cf__max_depth': 9, 'cf__criterion': 'entropy', 'cf__class_weight': None}\n",
      "Wall time: 7.19 s\n"
     ]
    }
   ],
   "source": [
    "%%time\n",
    "model.fit(X,y)\n",
    "\n",
    "print('BEST SCORE:', model.best_score_)\n",
    "print('BEST PARAMS:\\n', model.best_params_)"
   ]
  },
  {
   "cell_type": "code",
   "execution_count": 193,
   "id": "17145135",
   "metadata": {},
   "outputs": [
    {
     "name": "stdout",
     "output_type": "stream",
     "text": [
      "Define n_iter:  6\n"
     ]
    },
    {
     "data": {
      "text/plain": [
       "dict_keys(['memory', 'steps', 'verbose', 'scaler', 'cf', 'scaler__copy', 'scaler__with_mean', 'scaler__with_std', 'cf__C', 'cf__class_weight', 'cf__dual', 'cf__fit_intercept', 'cf__intercept_scaling', 'cf__l1_ratio', 'cf__max_iter', 'cf__multi_class', 'cf__n_jobs', 'cf__penalty', 'cf__random_state', 'cf__solver', 'cf__tol', 'cf__verbose', 'cf__warm_start'])"
      ]
     },
     "execution_count": 193,
     "metadata": {},
     "output_type": "execute_result"
    }
   ],
   "source": [
    "gridParam = {\n",
    "    #'cf__max_depth':[7,9,13],\n",
    "    #'cf__max_features': [0.8, 1.0],\n",
    "    #'cf__min_samples_leaf': [1,3,5],\n",
    "    #'cf__criterion': ['gini','entropy'],\n",
    "    #'cf__class_weight':[\"balanced\",None],\n",
    "    'cf__C': [0.5,1,2],\n",
    "    'cf__class_weight': [\"balanced\",None],\n",
    "    #'cf__knn__n_neighbors': [3,5,7]\n",
    "}\n",
    "\n",
    "pipe = Pipeline([\n",
    "    ('scaler',StandardScaler()),\n",
    "    ('cf', LogisticRegression(random_state=42,max_iter=500)),\n",
    "])\n",
    "\n",
    "\n",
    "model = RandomizedSearchCV(pipe,refit=True,n_jobs=-1,random_state=42,verbose=True,cv=RepeatedStratifiedKFold(n_repeats=3),\n",
    "                          n_iter=get_n_iter(gridParam),param_distributions=gridParam)\n",
    "pipe.get_params().keys()"
   ]
  },
  {
   "cell_type": "code",
   "execution_count": 194,
   "id": "490e0346",
   "metadata": {},
   "outputs": [
    {
     "name": "stdout",
     "output_type": "stream",
     "text": [
      "Fitting 15 folds for each of 6 candidates, totalling 90 fits\n",
      "BEST SCORE: 0.8733333333333333\n",
      "BEST PARAMS:\n",
      " {'cf__class_weight': None, 'cf__C': 1}\n",
      "Wall time: 2.31 s\n"
     ]
    }
   ],
   "source": [
    "%%time\n",
    "model.fit(X,y)\n",
    "\n",
    "print('BEST SCORE:', model.best_score_)\n",
    "print('BEST PARAMS:\\n', model.best_params_)"
   ]
  },
  {
   "cell_type": "code",
   "execution_count": 195,
   "id": "a8770d9e",
   "metadata": {},
   "outputs": [
    {
     "name": "stdout",
     "output_type": "stream",
     "text": [
      "Define n_iter:  3\n"
     ]
    },
    {
     "data": {
      "text/plain": [
       "dict_keys(['memory', 'steps', 'verbose', 'scaler', 'cf', 'scaler__copy', 'scaler__with_mean', 'scaler__with_std', 'cf__algorithm', 'cf__leaf_size', 'cf__metric', 'cf__metric_params', 'cf__n_jobs', 'cf__n_neighbors', 'cf__p', 'cf__weights'])"
      ]
     },
     "execution_count": 195,
     "metadata": {},
     "output_type": "execute_result"
    }
   ],
   "source": [
    "gridParam = {\n",
    "    #'cf__max_depth':[7,9,13],\n",
    "    #'cf__max_features': [0.8, 1.0],\n",
    "    #'cf__min_samples_leaf': [1,3,5],\n",
    "    #'cf__criterion': ['gini','entropy'],\n",
    "    #'cf__class_weight':[\"balanced\",None],\n",
    "    #'cf__C': [0.5,1,2],\n",
    "    #'cf__class_weight': [\"balanced\",None],\n",
    "    'cf__n_neighbors': [3,5,7]\n",
    "}\n",
    "\n",
    "pipe = Pipeline([\n",
    "    ('scaler',StandardScaler()),\n",
    "    ('cf', KNeighborsClassifier()),\n",
    "])\n",
    "\n",
    "\n",
    "model = RandomizedSearchCV(pipe,refit=True,n_jobs=-1,random_state=42,verbose=True,cv=RepeatedStratifiedKFold(n_repeats=3),\n",
    "                          n_iter=get_n_iter(gridParam),param_distributions=gridParam)\n",
    "pipe.get_params().keys()"
   ]
  },
  {
   "cell_type": "code",
   "execution_count": 196,
   "id": "9b95b685",
   "metadata": {},
   "outputs": [
    {
     "name": "stdout",
     "output_type": "stream",
     "text": [
      "Fitting 15 folds for each of 3 candidates, totalling 45 fits\n",
      "BEST SCORE: 0.8712222222222222\n",
      "BEST PARAMS:\n",
      " {'cf__n_neighbors': 3}\n",
      "Wall time: 482 ms\n"
     ]
    }
   ],
   "source": [
    "%%time\n",
    "model.fit(X,y)\n",
    "\n",
    "print('BEST SCORE:', model.best_score_)\n",
    "print('BEST PARAMS:\\n', model.best_params_)"
   ]
  },
  {
   "cell_type": "markdown",
   "id": "3cdd436f",
   "metadata": {},
   "source": [
    "### Fazendo a otimização dos parametros individuais dos classificadores fracos conseguimos melhorar muito pouco o resultado de cada um."
   ]
  },
  {
   "cell_type": "markdown",
   "id": "c0b6995e",
   "metadata": {},
   "source": [
    "## Agora, faremos a otimização integrada dos pipelines ensemble"
   ]
  },
  {
   "cell_type": "code",
   "execution_count": 197,
   "id": "e74d7d41",
   "metadata": {},
   "outputs": [
    {
     "name": "stdout",
     "output_type": "stream",
     "text": [
      "Define n_iter:  129.0\n"
     ]
    },
    {
     "data": {
      "text/plain": [
       "dict_keys(['memory', 'steps', 'verbose', 'scaler', 'cf', 'scaler__copy', 'scaler__with_mean', 'scaler__with_std', 'cf__estimators', 'cf__flatten_transform', 'cf__n_jobs', 'cf__verbose', 'cf__voting', 'cf__weights', 'cf__dt', 'cf__lr', 'cf__knn', 'cf__dt__ccp_alpha', 'cf__dt__class_weight', 'cf__dt__criterion', 'cf__dt__max_depth', 'cf__dt__max_features', 'cf__dt__max_leaf_nodes', 'cf__dt__min_impurity_decrease', 'cf__dt__min_samples_leaf', 'cf__dt__min_samples_split', 'cf__dt__min_weight_fraction_leaf', 'cf__dt__random_state', 'cf__dt__splitter', 'cf__lr__C', 'cf__lr__class_weight', 'cf__lr__dual', 'cf__lr__fit_intercept', 'cf__lr__intercept_scaling', 'cf__lr__l1_ratio', 'cf__lr__max_iter', 'cf__lr__multi_class', 'cf__lr__n_jobs', 'cf__lr__penalty', 'cf__lr__random_state', 'cf__lr__solver', 'cf__lr__tol', 'cf__lr__verbose', 'cf__lr__warm_start', 'cf__knn__algorithm', 'cf__knn__leaf_size', 'cf__knn__metric', 'cf__knn__metric_params', 'cf__knn__n_jobs', 'cf__knn__n_neighbors', 'cf__knn__p', 'cf__knn__weights'])"
      ]
     },
     "execution_count": 197,
     "metadata": {},
     "output_type": "execute_result"
    }
   ],
   "source": [
    "gridParam = {\n",
    "    'cf__dt__max_depth':[7,9,13],\n",
    "    'cf__dt__max_features': [0.8, 1.0],\n",
    "    'cf__dt__min_samples_leaf': [1,3,5],\n",
    "    'cf__dt__criterion': ['gini','entropy'],\n",
    "    'cf__dt__class_weight':[\"balanced\",None],\n",
    "    'cf__lr__C': [0.5,1,2],\n",
    "    'cf__lr__class_weight': [\"balanced\",None],\n",
    "    'cf__knn__n_neighbors': [3,5,7]\n",
    "}\n",
    "\n",
    "pipe = Pipeline([\n",
    "    ('scaler',StandardScaler()),\n",
    "    ('cf', VotingClassifier([\n",
    "              ('dt',DecisionTreeClassifier(random_state=42)),\n",
    "              ('lr',LogisticRegression(random_state=42,max_iter=500)),\n",
    "              ('knn',KNeighborsClassifier())\n",
    "          ]))\n",
    "])\n",
    "\n",
    "\n",
    "model = RandomizedSearchCV(pipe,refit=True,n_jobs=-1,random_state=42,verbose=True,cv=RepeatedStratifiedKFold(n_repeats=3),\n",
    "                          n_iter=get_n_iter(gridParam),param_distributions=gridParam)\n",
    "pipe.get_params().keys()"
   ]
  },
  {
   "cell_type": "code",
   "execution_count": 198,
   "id": "1480250c",
   "metadata": {},
   "outputs": [
    {
     "name": "stdout",
     "output_type": "stream",
     "text": [
      "Fitting 15 folds for each of 129 candidates, totalling 1935 fits\n",
      "BEST SCORE: 0.9079999999999999\n",
      "BEST PARAMS:\n",
      " {'cf__lr__class_weight': None, 'cf__lr__C': 2, 'cf__knn__n_neighbors': 5, 'cf__dt__min_samples_leaf': 3, 'cf__dt__max_features': 1.0, 'cf__dt__max_depth': 7, 'cf__dt__criterion': 'gini', 'cf__dt__class_weight': None}\n",
      "Wall time: 50.4 s\n"
     ]
    }
   ],
   "source": [
    "%%time\n",
    "model.fit(X,y)\n",
    "\n",
    "print('BEST SCORE:', model.best_score_)\n",
    "print('BEST PARAMS:\\n', model.best_params_)"
   ]
  },
  {
   "cell_type": "markdown",
   "id": "d04ab1f6",
   "metadata": {},
   "source": [
    "### Fazendo RandomizedSearch no Voting, já conseguimos melhorar o resultado consideravelmente."
   ]
  },
  {
   "cell_type": "code",
   "execution_count": 199,
   "id": "7a4c2b8c",
   "metadata": {},
   "outputs": [
    {
     "name": "stdout",
     "output_type": "stream",
     "text": [
      "Define n_iter:  172.0\n"
     ]
    },
    {
     "data": {
      "text/plain": [
       "dict_keys(['memory', 'steps', 'verbose', 'scaler', 'cf', 'scaler__copy', 'scaler__with_mean', 'scaler__with_std', 'cf__cv', 'cf__estimators', 'cf__final_estimator', 'cf__n_jobs', 'cf__passthrough', 'cf__stack_method', 'cf__verbose', 'cf__dt', 'cf__lr', 'cf__knn', 'cf__dt__ccp_alpha', 'cf__dt__class_weight', 'cf__dt__criterion', 'cf__dt__max_depth', 'cf__dt__max_features', 'cf__dt__max_leaf_nodes', 'cf__dt__min_impurity_decrease', 'cf__dt__min_samples_leaf', 'cf__dt__min_samples_split', 'cf__dt__min_weight_fraction_leaf', 'cf__dt__random_state', 'cf__dt__splitter', 'cf__lr__C', 'cf__lr__class_weight', 'cf__lr__dual', 'cf__lr__fit_intercept', 'cf__lr__intercept_scaling', 'cf__lr__l1_ratio', 'cf__lr__max_iter', 'cf__lr__multi_class', 'cf__lr__n_jobs', 'cf__lr__penalty', 'cf__lr__random_state', 'cf__lr__solver', 'cf__lr__tol', 'cf__lr__verbose', 'cf__lr__warm_start', 'cf__knn__algorithm', 'cf__knn__leaf_size', 'cf__knn__metric', 'cf__knn__metric_params', 'cf__knn__n_jobs', 'cf__knn__n_neighbors', 'cf__knn__p', 'cf__knn__weights'])"
      ]
     },
     "execution_count": 199,
     "metadata": {},
     "output_type": "execute_result"
    }
   ],
   "source": [
    "gridParam = {\n",
    "    'cf__passthrough': [False,True],\n",
    "    'cf__dt__max_depth':[7,9,13],\n",
    "    'cf__dt__max_features': [0.8, 1.0],\n",
    "    'cf__dt__min_samples_leaf': [1,3,5],\n",
    "    'cf__dt__criterion': ['gini','entropy'],\n",
    "    'cf__dt__class_weight':[\"balanced\",None],\n",
    "    'cf__lr__C': [0.5,1],\n",
    "    'cf__lr__class_weight': [\"balanced\",None],\n",
    "    'cf__knn__n_neighbors': [3,5,7]\n",
    "}\n",
    "\n",
    "pipe = Pipeline([\n",
    "    ('scaler',StandardScaler()),\n",
    "    ('cf', StackingClassifier([\n",
    "              ('dt',DecisionTreeClassifier(random_state=42)),\n",
    "              ('lr',LogisticRegression(random_state=42,max_iter=500)),\n",
    "              ('knn',KNeighborsClassifier())\n",
    "          ]))\n",
    "])\n",
    "\n",
    "\n",
    "model = RandomizedSearchCV(pipe,refit=True,n_jobs=-1,random_state=42,verbose=True,cv=RepeatedStratifiedKFold(n_repeats=3),\n",
    "                          n_iter=get_n_iter(gridParam),param_distributions=gridParam)\n",
    "pipe.get_params().keys()"
   ]
  },
  {
   "cell_type": "code",
   "execution_count": 200,
   "id": "7a51d57c",
   "metadata": {},
   "outputs": [
    {
     "name": "stdout",
     "output_type": "stream",
     "text": [
      "Fitting 15 folds for each of 172 candidates, totalling 2580 fits\n",
      "BEST SCORE: 0.9171111111111111\n",
      "BEST PARAMS:\n",
      " {'cf__passthrough': False, 'cf__lr__class_weight': 'balanced', 'cf__lr__C': 1, 'cf__knn__n_neighbors': 5, 'cf__dt__min_samples_leaf': 5, 'cf__dt__max_features': 0.8, 'cf__dt__max_depth': 7, 'cf__dt__criterion': 'entropy', 'cf__dt__class_weight': None}\n",
      "Wall time: 4min 54s\n"
     ]
    }
   ],
   "source": [
    "%%time\n",
    "model.fit(X,y)\n",
    "\n",
    "print('BEST SCORE:', model.best_score_)\n",
    "print('BEST PARAMS:\\n', model.best_params_)"
   ]
  },
  {
   "cell_type": "markdown",
   "id": "846abbce",
   "metadata": {},
   "source": [
    "### Com Ensemble Stacking, após otimização dos hiper-parametros, conseguimos chegar em um resultado de 0.917 no cross validation contra o RandomForest em 0.916, utilizando somente com 3 classificadores fracos ensembled."
   ]
  },
  {
   "cell_type": "markdown",
   "id": "e6093f6d",
   "metadata": {},
   "source": [
    "# Validando os resultados contra os dados não vistos no fit (85% da base deste desafio do Kaggle para testes finais)"
   ]
  },
  {
   "cell_type": "code",
   "execution_count": 201,
   "id": "54f41365",
   "metadata": {},
   "outputs": [
    {
     "data": {
      "text/plain": [
       "((17468, 112), (17468,), 0.8534297439906195)"
      ]
     },
     "execution_count": 201,
     "metadata": {},
     "output_type": "execute_result"
    }
   ],
   "source": [
    "X_test = df.loc[~df.index.isin(X.index)].drop('targets',axis=1)\n",
    "y_test = df.loc[X_test.index].targets\n",
    "X_test.shape,y_test.shape,X_test.shape[0]/df.shape[0]"
   ]
  },
  {
   "cell_type": "code",
   "execution_count": 202,
   "id": "5ae62f35",
   "metadata": {},
   "outputs": [],
   "source": [
    "y_pred = model.predict(X_test)"
   ]
  },
  {
   "cell_type": "code",
   "execution_count": 203,
   "id": "0439d48b",
   "metadata": {},
   "outputs": [
    {
     "data": {
      "text/plain": [
       "(0.9154453858484085, 0.8827191196818446)"
      ]
     },
     "execution_count": 203,
     "metadata": {},
     "output_type": "execute_result"
    }
   ],
   "source": [
    "accuracy_score(y_test,y_pred),balanced_accuracy_score(y_test,y_pred)"
   ]
  },
  {
   "cell_type": "code",
   "execution_count": 208,
   "id": "a4c8397f",
   "metadata": {},
   "outputs": [
    {
     "data": {
      "text/plain": [
       "(0.9181932676894894, 0.8691565479065702)"
      ]
     },
     "execution_count": 208,
     "metadata": {},
     "output_type": "execute_result"
    }
   ],
   "source": [
    "#{'cf__n_estimators': 150, 'cf__min_samples_leaf': 1, 'cf__max_depth': 17, 'cf__criterion': 'entropy', 'cf__class_weight': None}\n",
    "y_pred_bench = RandomForestClassifier(random_state=42,min_samples_leaf=1,n_estimators=150,\n",
    "                                      max_depth=17,criterion='entropy',\n",
    "                                      class_weight=None).fit(X.to_numpy(),y).predict(X_test.to_numpy())\n",
    "\n",
    "accuracy_score(y_test,y_pred_bench),balanced_accuracy_score(y_test,y_pred_bench)"
   ]
  },
  {
   "cell_type": "markdown",
   "id": "e5e2de42",
   "metadata": {},
   "source": [
    "# Conclusões:\n",
    "\n",
    "### Neste experimento e exercício conseguimos melhorar significativamente o resultado dos classificadores fracos com uma técnica de Ensemble, obtendo bons resultados mesmo tendo somente treinado com uma pequena fração dos dados em um dataset desbalanceado (~5% da base com desbalanceamento de 3/1 nos rótulos).\n",
    "\n",
    "### Interessantemente o RandomForest apresentou um melhor resultado nos testes finais no accuracy score, mas pior resultado no balanced accuracy score comparado ao nosso Ensemble. Provavelmente este fato se deu pela maior generalização do RandomForest em poucos dados de treino."
   ]
  },
  {
   "cell_type": "code",
   "execution_count": null,
   "id": "29f489b7",
   "metadata": {},
   "outputs": [],
   "source": []
  }
 ],
 "metadata": {
  "kernelspec": {
   "display_name": "Python 3 (ipykernel)",
   "language": "python",
   "name": "python3"
  },
  "language_info": {
   "codemirror_mode": {
    "name": "ipython",
    "version": 3
   },
   "file_extension": ".py",
   "mimetype": "text/x-python",
   "name": "python",
   "nbconvert_exporter": "python",
   "pygments_lexer": "ipython3",
   "version": "3.8.12"
  }
 },
 "nbformat": 4,
 "nbformat_minor": 5
}
